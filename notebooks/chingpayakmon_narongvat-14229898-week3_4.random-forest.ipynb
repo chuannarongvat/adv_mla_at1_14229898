{
 "cells": [
  {
   "cell_type": "code",
   "execution_count": 24,
   "id": "096d1694-a1fd-4c4a-a644-3ee06aa1b65b",
   "metadata": {
    "tags": []
   },
   "outputs": [
    {
     "name": "stdout",
     "output_type": "stream",
     "text": [
      "The autoreload extension is already loaded. To reload it, use:\n",
      "  %reload_ext autoreload\n"
     ]
    }
   ],
   "source": [
    "%load_ext autoreload\n",
    "%autoreload 2"
   ]
  },
  {
   "cell_type": "markdown",
   "id": "8883bda2-29e4-40f7-b34a-750ee953174a",
   "metadata": {},
   "source": [
    "## 3. Modeling - Random Forest"
   ]
  },
  {
   "cell_type": "markdown",
   "id": "31ac9e85-0fa4-41cb-936f-3abf7f19fc16",
   "metadata": {},
   "source": [
    "### 3.1 Load and Explore Dataset"
   ]
  },
  {
   "cell_type": "code",
   "execution_count": 25,
   "id": "064b717b-7993-4b61-bf82-71cbbffd41a5",
   "metadata": {
    "tags": []
   },
   "outputs": [],
   "source": [
    "X_train = pd.read_csv('../data/processed/X_train.csv')\n",
    "X_val = pd.read_csv('../data/processed/X_val.csv')\n",
    "y_train = pd.read_csv('../data/processed/y_train.csv')\n",
    "y_val = pd.read_csv('../data/processed/y_val.csv')\n",
    "X_test = pd.read_csv('../data/processed/X_test.csv')"
   ]
  },
  {
   "cell_type": "code",
   "execution_count": 26,
   "id": "a89a0064-6839-4f72-9299-d730bde16c27",
   "metadata": {
    "tags": []
   },
   "outputs": [],
   "source": [
    "y_train = y_train.values.ravel()\n",
    "y_val = y_val.values.ravel()"
   ]
  },
  {
   "cell_type": "markdown",
   "id": "e1e12420-d20b-4590-b417-db9d13b7b45e",
   "metadata": {},
   "source": [
    "**[3.1.1]** Import the pandas, numpy, and dump package"
   ]
  },
  {
   "cell_type": "code",
   "execution_count": 27,
   "id": "4f5d7a88-babb-45a8-a0b8-4a724b0e5700",
   "metadata": {
    "tags": []
   },
   "outputs": [],
   "source": [
    "import pandas as pd\n",
    "import numpy as np\n",
    "from joblib import dump"
   ]
  },
  {
   "cell_type": "markdown",
   "id": "bb5406a5-89e8-4374-8a8e-43c94f48de1f",
   "metadata": {},
   "source": [
    "### 3.2 Random Forest"
   ]
  },
  {
   "cell_type": "code",
   "execution_count": 28,
   "id": "bcc04085-0ee7-40d4-8c99-ef165ba8bccc",
   "metadata": {
    "tags": []
   },
   "outputs": [],
   "source": [
    "from sklearn.ensemble import RandomForestClassifier\n",
    "from sklearn.metrics import roc_auc_score, roc_curve\n",
    "import matplotlib.pyplot as plt"
   ]
  },
  {
   "cell_type": "markdown",
   "id": "0fb5d632-0d39-4010-85ec-2648e5d3baa1",
   "metadata": {},
   "source": [
    "Fit the model without hyperparameter tuning."
   ]
  },
  {
   "cell_type": "code",
   "execution_count": 29,
   "id": "7f7cc5e4-9d9e-401e-a9b8-f28e5d9ebae3",
   "metadata": {
    "tags": []
   },
   "outputs": [
    {
     "data": {
      "text/html": [
       "<style>#sk-container-id-2 {color: black;background-color: white;}#sk-container-id-2 pre{padding: 0;}#sk-container-id-2 div.sk-toggleable {background-color: white;}#sk-container-id-2 label.sk-toggleable__label {cursor: pointer;display: block;width: 100%;margin-bottom: 0;padding: 0.3em;box-sizing: border-box;text-align: center;}#sk-container-id-2 label.sk-toggleable__label-arrow:before {content: \"▸\";float: left;margin-right: 0.25em;color: #696969;}#sk-container-id-2 label.sk-toggleable__label-arrow:hover:before {color: black;}#sk-container-id-2 div.sk-estimator:hover label.sk-toggleable__label-arrow:before {color: black;}#sk-container-id-2 div.sk-toggleable__content {max-height: 0;max-width: 0;overflow: hidden;text-align: left;background-color: #f0f8ff;}#sk-container-id-2 div.sk-toggleable__content pre {margin: 0.2em;color: black;border-radius: 0.25em;background-color: #f0f8ff;}#sk-container-id-2 input.sk-toggleable__control:checked~div.sk-toggleable__content {max-height: 200px;max-width: 100%;overflow: auto;}#sk-container-id-2 input.sk-toggleable__control:checked~label.sk-toggleable__label-arrow:before {content: \"▾\";}#sk-container-id-2 div.sk-estimator input.sk-toggleable__control:checked~label.sk-toggleable__label {background-color: #d4ebff;}#sk-container-id-2 div.sk-label input.sk-toggleable__control:checked~label.sk-toggleable__label {background-color: #d4ebff;}#sk-container-id-2 input.sk-hidden--visually {border: 0;clip: rect(1px 1px 1px 1px);clip: rect(1px, 1px, 1px, 1px);height: 1px;margin: -1px;overflow: hidden;padding: 0;position: absolute;width: 1px;}#sk-container-id-2 div.sk-estimator {font-family: monospace;background-color: #f0f8ff;border: 1px dotted black;border-radius: 0.25em;box-sizing: border-box;margin-bottom: 0.5em;}#sk-container-id-2 div.sk-estimator:hover {background-color: #d4ebff;}#sk-container-id-2 div.sk-parallel-item::after {content: \"\";width: 100%;border-bottom: 1px solid gray;flex-grow: 1;}#sk-container-id-2 div.sk-label:hover label.sk-toggleable__label {background-color: #d4ebff;}#sk-container-id-2 div.sk-serial::before {content: \"\";position: absolute;border-left: 1px solid gray;box-sizing: border-box;top: 0;bottom: 0;left: 50%;z-index: 0;}#sk-container-id-2 div.sk-serial {display: flex;flex-direction: column;align-items: center;background-color: white;padding-right: 0.2em;padding-left: 0.2em;position: relative;}#sk-container-id-2 div.sk-item {position: relative;z-index: 1;}#sk-container-id-2 div.sk-parallel {display: flex;align-items: stretch;justify-content: center;background-color: white;position: relative;}#sk-container-id-2 div.sk-item::before, #sk-container-id-2 div.sk-parallel-item::before {content: \"\";position: absolute;border-left: 1px solid gray;box-sizing: border-box;top: 0;bottom: 0;left: 50%;z-index: -1;}#sk-container-id-2 div.sk-parallel-item {display: flex;flex-direction: column;z-index: 1;position: relative;background-color: white;}#sk-container-id-2 div.sk-parallel-item:first-child::after {align-self: flex-end;width: 50%;}#sk-container-id-2 div.sk-parallel-item:last-child::after {align-self: flex-start;width: 50%;}#sk-container-id-2 div.sk-parallel-item:only-child::after {width: 0;}#sk-container-id-2 div.sk-dashed-wrapped {border: 1px dashed gray;margin: 0 0.4em 0.5em 0.4em;box-sizing: border-box;padding-bottom: 0.4em;background-color: white;}#sk-container-id-2 div.sk-label label {font-family: monospace;font-weight: bold;display: inline-block;line-height: 1.2em;}#sk-container-id-2 div.sk-label-container {text-align: center;}#sk-container-id-2 div.sk-container {/* jupyter's `normalize.less` sets `[hidden] { display: none; }` but bootstrap.min.css set `[hidden] { display: none !important; }` so we also need the `!important` here to be able to override the default hidden behavior on the sphinx rendered scikit-learn.org. See: https://github.com/scikit-learn/scikit-learn/issues/21755 */display: inline-block !important;position: relative;}#sk-container-id-2 div.sk-text-repr-fallback {display: none;}</style><div id=\"sk-container-id-2\" class=\"sk-top-container\"><div class=\"sk-text-repr-fallback\"><pre>RandomForestClassifier(random_state=8)</pre><b>In a Jupyter environment, please rerun this cell to show the HTML representation or trust the notebook. <br />On GitHub, the HTML representation is unable to render, please try loading this page with nbviewer.org.</b></div><div class=\"sk-container\" hidden><div class=\"sk-item\"><div class=\"sk-estimator sk-toggleable\"><input class=\"sk-toggleable__control sk-hidden--visually\" id=\"sk-estimator-id-2\" type=\"checkbox\" checked><label for=\"sk-estimator-id-2\" class=\"sk-toggleable__label sk-toggleable__label-arrow\">RandomForestClassifier</label><div class=\"sk-toggleable__content\"><pre>RandomForestClassifier(random_state=8)</pre></div></div></div></div></div>"
      ],
      "text/plain": [
       "RandomForestClassifier(random_state=8)"
      ]
     },
     "execution_count": 29,
     "metadata": {},
     "output_type": "execute_result"
    }
   ],
   "source": [
    "random_forest = RandomForestClassifier(random_state=8)\n",
    "random_forest.fit(X_train, y_train)"
   ]
  },
  {
   "cell_type": "code",
   "execution_count": 31,
   "id": "2cbc9704-8f38-40b2-bc11-88f4603de830",
   "metadata": {
    "tags": []
   },
   "outputs": [
    {
     "data": {
      "text/plain": [
       "['../models/random_forest.joblib']"
      ]
     },
     "execution_count": 31,
     "metadata": {},
     "output_type": "execute_result"
    }
   ],
   "source": [
    "from joblib import dump\n",
    "\n",
    "dump(random_forest, '../models/random_forest.joblib')"
   ]
  },
  {
   "cell_type": "code",
   "execution_count": 32,
   "id": "f6729b0a-f43e-4be7-9cf7-3318389c30db",
   "metadata": {
    "tags": []
   },
   "outputs": [],
   "source": [
    "import sys\n",
    "sys.path.insert(0, '../src')"
   ]
  },
  {
   "cell_type": "code",
   "execution_count": 33,
   "id": "fa70ca81-9442-45dc-996a-24d83a530c59",
   "metadata": {
    "tags": []
   },
   "outputs": [],
   "source": [
    "from models.predict_model import predict_model"
   ]
  },
  {
   "cell_type": "code",
   "execution_count": 34,
   "id": "34059bf4-4fa3-4ecd-9a85-13870e1f64bf",
   "metadata": {
    "tags": []
   },
   "outputs": [
    {
     "name": "stdout",
     "output_type": "stream",
     "text": [
      "                roc-auc score\n",
      "Training Set         1.000000\n",
      "Validation Set       0.999957\n"
     ]
    },
    {
     "data": {
      "image/png": "[encoded data removed]",
      "text/plain": [
       "<Figure size 640x480 with 1 Axes>"
      ]
     },
     "metadata": {},
     "output_type": "display_data"
    }
   ],
   "source": [
    "predict_model(random_forest, X_train, X_val, y_train, y_val)"
   ]
  },
  {
   "cell_type": "code",
   "execution_count": 35,
   "id": "6a19e528-de1a-4cfd-b06b-dffcdcb3fb80",
   "metadata": {
    "tags": []
   },
   "outputs": [],
   "source": [
    "from visualization.submission_file import submission_file"
   ]
  },
  {
   "cell_type": "code",
   "execution_count": 36,
   "id": "d0a675bb-123b-4240-b943-f6ac5edd61b4",
   "metadata": {
    "tags": []
   },
   "outputs": [],
   "source": [
    "y_test_probs = random_forest.predict_proba(X_test)[:, 1]"
   ]
  },
  {
   "cell_type": "code",
   "execution_count": 37,
   "id": "d37e6485-ef50-4214-9e8d-f11f9d197144",
   "metadata": {
    "tags": []
   },
   "outputs": [],
   "source": [
    "submission_2 = submission_file(y_test_probs)"
   ]
  },
  {
   "cell_type": "code",
   "execution_count": 39,
   "id": "c4ff8874-7a72-4962-aa11-6d25a9c35b37",
   "metadata": {
    "tags": []
   },
   "outputs": [],
   "source": [
    "submission_2.to_csv('../data/submission/submission_2_rf.csv', index=False)"
   ]
  },
  {
   "cell_type": "code",
   "execution_count": 40,
   "id": "b87edf1f-df85-4ed2-bd76-b81b79e17c96",
   "metadata": {
    "tags": []
   },
   "outputs": [
    {
     "data": {
      "text/html": [
       "<div>\n",
       "<style scoped>\n",
       "    .dataframe tbody tr th:only-of-type {\n",
       "        vertical-align: middle;\n",
       "    }\n",
       "\n",
       "    .dataframe tbody tr th {\n",
       "        vertical-align: top;\n",
       "    }\n",
       "\n",
       "    .dataframe thead th {\n",
       "        text-align: right;\n",
       "    }\n",
       "</style>\n",
       "<table border=\"1\" class=\"dataframe\">\n",
       "  <thead>\n",
       "    <tr style=\"text-align: right;\">\n",
       "      <th></th>\n",
       "      <th>player_id</th>\n",
       "      <th>drafted</th>\n",
       "    </tr>\n",
       "  </thead>\n",
       "  <tbody>\n",
       "    <tr>\n",
       "      <th>13</th>\n",
       "      <td>26544ebf-a284-48b3-a2c8-dcccb0fd989a</td>\n",
       "      <td>0.4</td>\n",
       "    </tr>\n",
       "    <tr>\n",
       "      <th>22</th>\n",
       "      <td>843bf833-1ae8-4ecc-860b-274768e342a6</td>\n",
       "      <td>0.1</td>\n",
       "    </tr>\n",
       "    <tr>\n",
       "      <th>38</th>\n",
       "      <td>e5124527-48a4-4bae-a12f-c3a5f5b8a51e</td>\n",
       "      <td>0.2</td>\n",
       "    </tr>\n",
       "    <tr>\n",
       "      <th>39</th>\n",
       "      <td>7a727e8c-2480-4e1e-808e-06ea762c6a11</td>\n",
       "      <td>0.4</td>\n",
       "    </tr>\n",
       "    <tr>\n",
       "      <th>44</th>\n",
       "      <td>e6ee7199-c545-4c05-9a5f-50f582734e30</td>\n",
       "      <td>0.7</td>\n",
       "    </tr>\n",
       "    <tr>\n",
       "      <th>...</th>\n",
       "      <td>...</td>\n",
       "      <td>...</td>\n",
       "    </tr>\n",
       "    <tr>\n",
       "      <th>4737</th>\n",
       "      <td>7e8edff7-8979-4cf9-b782-737e05aa5abb</td>\n",
       "      <td>0.1</td>\n",
       "    </tr>\n",
       "    <tr>\n",
       "      <th>4739</th>\n",
       "      <td>f5f0bbeb-db48-4449-a405-72ebc0a4d644</td>\n",
       "      <td>0.5</td>\n",
       "    </tr>\n",
       "    <tr>\n",
       "      <th>4759</th>\n",
       "      <td>fae50ad7-1b6a-4a8c-9152-3b65d6888e18</td>\n",
       "      <td>0.2</td>\n",
       "    </tr>\n",
       "    <tr>\n",
       "      <th>4763</th>\n",
       "      <td>4ad095fd-045c-4887-a87a-e4faae16973d</td>\n",
       "      <td>0.1</td>\n",
       "    </tr>\n",
       "    <tr>\n",
       "      <th>4948</th>\n",
       "      <td>68b498ac-f5d6-4ddf-88a2-1c88d3fc2533</td>\n",
       "      <td>0.1</td>\n",
       "    </tr>\n",
       "  </tbody>\n",
       "</table>\n",
       "<p>327 rows × 2 columns</p>\n",
       "</div>"
      ],
      "text/plain": [
       "                                 player_id  drafted\n",
       "13    26544ebf-a284-48b3-a2c8-dcccb0fd989a      0.4\n",
       "22    843bf833-1ae8-4ecc-860b-274768e342a6      0.1\n",
       "38    e5124527-48a4-4bae-a12f-c3a5f5b8a51e      0.2\n",
       "39    7a727e8c-2480-4e1e-808e-06ea762c6a11      0.4\n",
       "44    e6ee7199-c545-4c05-9a5f-50f582734e30      0.7\n",
       "...                                    ...      ...\n",
       "4737  7e8edff7-8979-4cf9-b782-737e05aa5abb      0.1\n",
       "4739  f5f0bbeb-db48-4449-a405-72ebc0a4d644      0.5\n",
       "4759  fae50ad7-1b6a-4a8c-9152-3b65d6888e18      0.2\n",
       "4763  4ad095fd-045c-4887-a87a-e4faae16973d      0.1\n",
       "4948  68b498ac-f5d6-4ddf-88a2-1c88d3fc2533      0.1\n",
       "\n",
       "[327 rows x 2 columns]"
      ]
     },
     "execution_count": 40,
     "metadata": {},
     "output_type": "execute_result"
    }
   ],
   "source": [
    "submission_2[submission_2['drafted'] != 0]"
   ]
  },
  {
   "cell_type": "code",
   "execution_count": null,
   "id": "39043ea5-05aa-4b76-be2a-c318c26d4d10",
   "metadata": {},
   "outputs": [],
   "source": []
  },
  {
   "cell_type": "code",
   "execution_count": null,
   "id": "2ca51806-77e3-439c-b03d-45d7b11ebf93",
   "metadata": {},
   "outputs": [],
   "source": []
  },
  {
   "cell_type": "code",
   "execution_count": null,
   "id": "9a02925c-916c-41ae-b7d2-4b339f8cc0fc",
   "metadata": {},
   "outputs": [],
   "source": []
  },
  {
   "cell_type": "markdown",
   "id": "61d822aa-9a4c-43aa-b082-ebc4960849b5",
   "metadata": {},
   "source": [
    "#### Hyperparameter Tuning with GridSearch"
   ]
  },
  {
   "cell_type": "code",
   "execution_count": 18,
   "id": "7a0938fb-f0f0-4cb7-9fb0-77a497f4f3a3",
   "metadata": {
    "tags": []
   },
   "outputs": [],
   "source": [
    "from sklearn.model_selection import GridSearchCV"
   ]
  },
  {
   "cell_type": "code",
   "execution_count": 19,
   "id": "3cff531f-fad9-49a4-91d0-ad0671ba5a3d",
   "metadata": {
    "tags": []
   },
   "outputs": [],
   "source": [
    "param_grid = {\n",
    "    'n_estimators': [100, 200, 300],\n",
    "    'max_depth': [None, 10, 20],\n",
    "    'min_samples_split': [2, 5, 10],\n",
    "    'min_samples_leaf': [1, 2, 4]\n",
    "}"
   ]
  },
  {
   "cell_type": "code",
   "execution_count": 20,
   "id": "31d93bae-c77b-4257-9e36-48fa9b7bbdd8",
   "metadata": {
    "tags": []
   },
   "outputs": [],
   "source": [
    "rf = RandomForestClassifier(random_state=42)"
   ]
  },
  {
   "cell_type": "code",
   "execution_count": 21,
   "id": "d77969ff-8b68-4c45-bf99-0bbe9d7e937f",
   "metadata": {
    "tags": []
   },
   "outputs": [],
   "source": [
    "grid_search = GridSearchCV(estimator=rf, param_grid=param_grid, scoring='neg_log_loss', cv=5, n_jobs=-1)"
   ]
  },
  {
   "cell_type": "code",
   "execution_count": null,
   "id": "3b90b3f5-d18a-4a23-ae9b-fbf12b4193a2",
   "metadata": {
    "tags": []
   },
   "outputs": [],
   "source": [
    "grid_search.fit(X_train, y_train)"
   ]
  },
  {
   "cell_type": "code",
   "execution_count": null,
   "id": "2a0397f7-2809-400e-8429-48736bdd0c21",
   "metadata": {
    "tags": []
   },
   "outputs": [],
   "source": [
    "print(\"Best Parameters:\", grid_search.best_params_)\n",
    "print(\"Best Score:\", -grid_search.best_score_)"
   ]
  },
  {
   "cell_type": "code",
   "execution_count": null,
   "id": "ee33412a-69f6-400e-95b2-4e56bb870d96",
   "metadata": {
    "tags": []
   },
   "outputs": [],
   "source": [
    "best_rf_model = grid_search.best_estimator_\n",
    "best_rf_model.fit(X_train, y_train)"
   ]
  },
  {
   "cell_type": "code",
   "execution_count": null,
   "id": "94a4f4d9-c840-475f-bbca-533fd956a3cb",
   "metadata": {
    "tags": []
   },
   "outputs": [],
   "source": [
    "y_test_prob_tune = best_rf_model.predict_proba(X_test)[:, 1]"
   ]
  },
  {
   "cell_type": "code",
   "execution_count": null,
   "id": "d6f5a455-febd-4b98-a5de-ffe29860d31b",
   "metadata": {
    "tags": []
   },
   "outputs": [],
   "source": [
    "submission_2 = submission_file(y_test_prob_tune)"
   ]
  },
  {
   "cell_type": "markdown",
   "id": "25c4cb2c-014b-4589-bc35-1dcc6f2eb6f1",
   "metadata": {},
   "source": [
    "#### Hyperparameter Tuning with RandomizedSearch"
   ]
  },
  {
   "cell_type": "code",
   "execution_count": 23,
   "id": "68d4e3d0-c73b-4ef0-9655-f70b16928c95",
   "metadata": {
    "tags": []
   },
   "outputs": [],
   "source": [
    "from sklearn.model_selection import RandomizedSearchCV"
   ]
  },
  {
   "cell_type": "code",
   "execution_count": 24,
   "id": "cb1d4d6e-6b49-49a2-af57-eefb1bb96cc7",
   "metadata": {
    "tags": []
   },
   "outputs": [],
   "source": [
    "rf = RandomForestClassifier(random_state=42)"
   ]
  },
  {
   "cell_type": "code",
   "execution_count": 25,
   "id": "faee7370-a16d-4a4f-964a-d7b1211d2f0b",
   "metadata": {
    "tags": []
   },
   "outputs": [],
   "source": [
    "param_dist = {\n",
    "    'n_estimators': np.arange(100, 1000, 100),\n",
    "    'max_depth': [None] + list(np.arange(10, 110, 10)),\n",
    "    'min_samples_split': np.arange(2, 11),\n",
    "    'min_samples_leaf': np.arange(1, 11)\n",
    "}"
   ]
  },
  {
   "cell_type": "code",
   "execution_count": 28,
   "id": "04864e5b-c7ac-42b6-b232-d3ba8a3e2b29",
   "metadata": {
    "tags": []
   },
   "outputs": [],
   "source": [
    "random_search = RandomizedSearchCV(estimator=rf,\n",
    "                                   param_distributions=param_dist,\n",
    "                                   scoring='neg_log_loss',\n",
    "                                   cv=5,\n",
    "                                   n_iter=50,\n",
    "                                   n_jobs=-1,\n",
    "                                   random_state=42)"
   ]
  },
  {
   "cell_type": "code",
   "execution_count": 29,
   "id": "0a1f71fe-543e-4ea9-982b-decff64d7748",
   "metadata": {
    "tags": []
   },
   "outputs": [
    {
     "data": {
      "text/html": [
       "<style>#sk-container-id-2 {color: black;background-color: white;}#sk-container-id-2 pre{padding: 0;}#sk-container-id-2 div.sk-toggleable {background-color: white;}#sk-container-id-2 label.sk-toggleable__label {cursor: pointer;display: block;width: 100%;margin-bottom: 0;padding: 0.3em;box-sizing: border-box;text-align: center;}#sk-container-id-2 label.sk-toggleable__label-arrow:before {content: \"▸\";float: left;margin-right: 0.25em;color: #696969;}#sk-container-id-2 label.sk-toggleable__label-arrow:hover:before {color: black;}#sk-container-id-2 div.sk-estimator:hover label.sk-toggleable__label-arrow:before {color: black;}#sk-container-id-2 div.sk-toggleable__content {max-height: 0;max-width: 0;overflow: hidden;text-align: left;background-color: #f0f8ff;}#sk-container-id-2 div.sk-toggleable__content pre {margin: 0.2em;color: black;border-radius: 0.25em;background-color: #f0f8ff;}#sk-container-id-2 input.sk-toggleable__control:checked~div.sk-toggleable__content {max-height: 200px;max-width: 100%;overflow: auto;}#sk-container-id-2 input.sk-toggleable__control:checked~label.sk-toggleable__label-arrow:before {content: \"▾\";}#sk-container-id-2 div.sk-estimator input.sk-toggleable__control:checked~label.sk-toggleable__label {background-color: #d4ebff;}#sk-container-id-2 div.sk-label input.sk-toggleable__control:checked~label.sk-toggleable__label {background-color: #d4ebff;}#sk-container-id-2 input.sk-hidden--visually {border: 0;clip: rect(1px 1px 1px 1px);clip: rect(1px, 1px, 1px, 1px);height: 1px;margin: -1px;overflow: hidden;padding: 0;position: absolute;width: 1px;}#sk-container-id-2 div.sk-estimator {font-family: monospace;background-color: #f0f8ff;border: 1px dotted black;border-radius: 0.25em;box-sizing: border-box;margin-bottom: 0.5em;}#sk-container-id-2 div.sk-estimator:hover {background-color: #d4ebff;}#sk-container-id-2 div.sk-parallel-item::after {content: \"\";width: 100%;border-bottom: 1px solid gray;flex-grow: 1;}#sk-container-id-2 div.sk-label:hover label.sk-toggleable__label {background-color: #d4ebff;}#sk-container-id-2 div.sk-serial::before {content: \"\";position: absolute;border-left: 1px solid gray;box-sizing: border-box;top: 0;bottom: 0;left: 50%;z-index: 0;}#sk-container-id-2 div.sk-serial {display: flex;flex-direction: column;align-items: center;background-color: white;padding-right: 0.2em;padding-left: 0.2em;position: relative;}#sk-container-id-2 div.sk-item {position: relative;z-index: 1;}#sk-container-id-2 div.sk-parallel {display: flex;align-items: stretch;justify-content: center;background-color: white;position: relative;}#sk-container-id-2 div.sk-item::before, #sk-container-id-2 div.sk-parallel-item::before {content: \"\";position: absolute;border-left: 1px solid gray;box-sizing: border-box;top: 0;bottom: 0;left: 50%;z-index: -1;}#sk-container-id-2 div.sk-parallel-item {display: flex;flex-direction: column;z-index: 1;position: relative;background-color: white;}#sk-container-id-2 div.sk-parallel-item:first-child::after {align-self: flex-end;width: 50%;}#sk-container-id-2 div.sk-parallel-item:last-child::after {align-self: flex-start;width: 50%;}#sk-container-id-2 div.sk-parallel-item:only-child::after {width: 0;}#sk-container-id-2 div.sk-dashed-wrapped {border: 1px dashed gray;margin: 0 0.4em 0.5em 0.4em;box-sizing: border-box;padding-bottom: 0.4em;background-color: white;}#sk-container-id-2 div.sk-label label {font-family: monospace;font-weight: bold;display: inline-block;line-height: 1.2em;}#sk-container-id-2 div.sk-label-container {text-align: center;}#sk-container-id-2 div.sk-container {/* jupyter's `normalize.less` sets `[hidden] { display: none; }` but bootstrap.min.css set `[hidden] { display: none !important; }` so we also need the `!important` here to be able to override the default hidden behavior on the sphinx rendered scikit-learn.org. See: https://github.com/scikit-learn/scikit-learn/issues/21755 */display: inline-block !important;position: relative;}#sk-container-id-2 div.sk-text-repr-fallback {display: none;}</style><div id=\"sk-container-id-2\" class=\"sk-top-container\"><div class=\"sk-text-repr-fallback\"><pre>RandomizedSearchCV(cv=5, estimator=RandomForestClassifier(random_state=42),\n",
       "                   n_iter=50, n_jobs=-1,\n",
       "                   param_distributions={&#x27;max_depth&#x27;: [None, 10, 20, 30, 40, 50,\n",
       "                                                      60, 70, 80, 90, 100],\n",
       "                                        &#x27;min_samples_leaf&#x27;: array([ 1,  2,  3,  4,  5,  6,  7,  8,  9, 10]),\n",
       "                                        &#x27;min_samples_split&#x27;: array([ 2,  3,  4,  5,  6,  7,  8,  9, 10]),\n",
       "                                        &#x27;n_estimators&#x27;: array([100, 200, 300, 400, 500, 600, 700, 800, 900])},\n",
       "                   random_state=42, scoring=&#x27;neg_log_loss&#x27;)</pre><b>In a Jupyter environment, please rerun this cell to show the HTML representation or trust the notebook. <br />On GitHub, the HTML representation is unable to render, please try loading this page with nbviewer.org.</b></div><div class=\"sk-container\" hidden><div class=\"sk-item sk-dashed-wrapped\"><div class=\"sk-label-container\"><div class=\"sk-label sk-toggleable\"><input class=\"sk-toggleable__control sk-hidden--visually\" id=\"sk-estimator-id-2\" type=\"checkbox\" ><label for=\"sk-estimator-id-2\" class=\"sk-toggleable__label sk-toggleable__label-arrow\">RandomizedSearchCV</label><div class=\"sk-toggleable__content\"><pre>RandomizedSearchCV(cv=5, estimator=RandomForestClassifier(random_state=42),\n",
       "                   n_iter=50, n_jobs=-1,\n",
       "                   param_distributions={&#x27;max_depth&#x27;: [None, 10, 20, 30, 40, 50,\n",
       "                                                      60, 70, 80, 90, 100],\n",
       "                                        &#x27;min_samples_leaf&#x27;: array([ 1,  2,  3,  4,  5,  6,  7,  8,  9, 10]),\n",
       "                                        &#x27;min_samples_split&#x27;: array([ 2,  3,  4,  5,  6,  7,  8,  9, 10]),\n",
       "                                        &#x27;n_estimators&#x27;: array([100, 200, 300, 400, 500, 600, 700, 800, 900])},\n",
       "                   random_state=42, scoring=&#x27;neg_log_loss&#x27;)</pre></div></div></div><div class=\"sk-parallel\"><div class=\"sk-parallel-item\"><div class=\"sk-item\"><div class=\"sk-label-container\"><div class=\"sk-label sk-toggleable\"><input class=\"sk-toggleable__control sk-hidden--visually\" id=\"sk-estimator-id-3\" type=\"checkbox\" ><label for=\"sk-estimator-id-3\" class=\"sk-toggleable__label sk-toggleable__label-arrow\">estimator: RandomForestClassifier</label><div class=\"sk-toggleable__content\"><pre>RandomForestClassifier(random_state=42)</pre></div></div></div><div class=\"sk-serial\"><div class=\"sk-item\"><div class=\"sk-estimator sk-toggleable\"><input class=\"sk-toggleable__control sk-hidden--visually\" id=\"sk-estimator-id-4\" type=\"checkbox\" ><label for=\"sk-estimator-id-4\" class=\"sk-toggleable__label sk-toggleable__label-arrow\">RandomForestClassifier</label><div class=\"sk-toggleable__content\"><pre>RandomForestClassifier(random_state=42)</pre></div></div></div></div></div></div></div></div></div></div>"
      ],
      "text/plain": [
       "RandomizedSearchCV(cv=5, estimator=RandomForestClassifier(random_state=42),\n",
       "                   n_iter=50, n_jobs=-1,\n",
       "                   param_distributions={'max_depth': [None, 10, 20, 30, 40, 50,\n",
       "                                                      60, 70, 80, 90, 100],\n",
       "                                        'min_samples_leaf': array([ 1,  2,  3,  4,  5,  6,  7,  8,  9, 10]),\n",
       "                                        'min_samples_split': array([ 2,  3,  4,  5,  6,  7,  8,  9, 10]),\n",
       "                                        'n_estimators': array([100, 200, 300, 400, 500, 600, 700, 800, 900])},\n",
       "                   random_state=42, scoring='neg_log_loss')"
      ]
     },
     "execution_count": 29,
     "metadata": {},
     "output_type": "execute_result"
    }
   ],
   "source": [
    "random_search.fit(X_train, y_train)"
   ]
  },
  {
   "cell_type": "code",
   "execution_count": 30,
   "id": "a85fd09d-b306-42f0-b1a4-7ab8c6d73114",
   "metadata": {
    "tags": []
   },
   "outputs": [],
   "source": [
    "best_params = random_search.best_params_\n",
    "best_score = -random_search.best_score_"
   ]
  },
  {
   "cell_type": "code",
   "execution_count": 34,
   "id": "0c0782a8-01c4-4c37-802b-b8c40df9b2db",
   "metadata": {
    "tags": []
   },
   "outputs": [
    {
     "name": "stdout",
     "output_type": "stream",
     "text": [
      "Best Parameters: {'n_estimators': 200, 'min_samples_split': 9, 'min_samples_leaf': 1, 'max_depth': 70}\n",
      "Best Score: 0.021967692234439656\n"
     ]
    }
   ],
   "source": [
    "print(\"Best Parameters:\", best_params)\n",
    "print(\"Best Score:\", best_score)"
   ]
  },
  {
   "cell_type": "code",
   "execution_count": 36,
   "id": "a5cdac94-1e78-47c2-b994-3a14627721d7",
   "metadata": {
    "tags": []
   },
   "outputs": [],
   "source": [
    "rf_randomized = RandomForestClassifier(**best_params, random_state=8)"
   ]
  },
  {
   "cell_type": "code",
   "execution_count": 37,
   "id": "0071fce8-5f92-4ffc-9f96-e3a47ece1178",
   "metadata": {
    "tags": []
   },
   "outputs": [
    {
     "data": {
      "text/html": [
       "<style>#sk-container-id-3 {color: black;background-color: white;}#sk-container-id-3 pre{padding: 0;}#sk-container-id-3 div.sk-toggleable {background-color: white;}#sk-container-id-3 label.sk-toggleable__label {cursor: pointer;display: block;width: 100%;margin-bottom: 0;padding: 0.3em;box-sizing: border-box;text-align: center;}#sk-container-id-3 label.sk-toggleable__label-arrow:before {content: \"▸\";float: left;margin-right: 0.25em;color: #696969;}#sk-container-id-3 label.sk-toggleable__label-arrow:hover:before {color: black;}#sk-container-id-3 div.sk-estimator:hover label.sk-toggleable__label-arrow:before {color: black;}#sk-container-id-3 div.sk-toggleable__content {max-height: 0;max-width: 0;overflow: hidden;text-align: left;background-color: #f0f8ff;}#sk-container-id-3 div.sk-toggleable__content pre {margin: 0.2em;color: black;border-radius: 0.25em;background-color: #f0f8ff;}#sk-container-id-3 input.sk-toggleable__control:checked~div.sk-toggleable__content {max-height: 200px;max-width: 100%;overflow: auto;}#sk-container-id-3 input.sk-toggleable__control:checked~label.sk-toggleable__label-arrow:before {content: \"▾\";}#sk-container-id-3 div.sk-estimator input.sk-toggleable__control:checked~label.sk-toggleable__label {background-color: #d4ebff;}#sk-container-id-3 div.sk-label input.sk-toggleable__control:checked~label.sk-toggleable__label {background-color: #d4ebff;}#sk-container-id-3 input.sk-hidden--visually {border: 0;clip: rect(1px 1px 1px 1px);clip: rect(1px, 1px, 1px, 1px);height: 1px;margin: -1px;overflow: hidden;padding: 0;position: absolute;width: 1px;}#sk-container-id-3 div.sk-estimator {font-family: monospace;background-color: #f0f8ff;border: 1px dotted black;border-radius: 0.25em;box-sizing: border-box;margin-bottom: 0.5em;}#sk-container-id-3 div.sk-estimator:hover {background-color: #d4ebff;}#sk-container-id-3 div.sk-parallel-item::after {content: \"\";width: 100%;border-bottom: 1px solid gray;flex-grow: 1;}#sk-container-id-3 div.sk-label:hover label.sk-toggleable__label {background-color: #d4ebff;}#sk-container-id-3 div.sk-serial::before {content: \"\";position: absolute;border-left: 1px solid gray;box-sizing: border-box;top: 0;bottom: 0;left: 50%;z-index: 0;}#sk-container-id-3 div.sk-serial {display: flex;flex-direction: column;align-items: center;background-color: white;padding-right: 0.2em;padding-left: 0.2em;position: relative;}#sk-container-id-3 div.sk-item {position: relative;z-index: 1;}#sk-container-id-3 div.sk-parallel {display: flex;align-items: stretch;justify-content: center;background-color: white;position: relative;}#sk-container-id-3 div.sk-item::before, #sk-container-id-3 div.sk-parallel-item::before {content: \"\";position: absolute;border-left: 1px solid gray;box-sizing: border-box;top: 0;bottom: 0;left: 50%;z-index: -1;}#sk-container-id-3 div.sk-parallel-item {display: flex;flex-direction: column;z-index: 1;position: relative;background-color: white;}#sk-container-id-3 div.sk-parallel-item:first-child::after {align-self: flex-end;width: 50%;}#sk-container-id-3 div.sk-parallel-item:last-child::after {align-self: flex-start;width: 50%;}#sk-container-id-3 div.sk-parallel-item:only-child::after {width: 0;}#sk-container-id-3 div.sk-dashed-wrapped {border: 1px dashed gray;margin: 0 0.4em 0.5em 0.4em;box-sizing: border-box;padding-bottom: 0.4em;background-color: white;}#sk-container-id-3 div.sk-label label {font-family: monospace;font-weight: bold;display: inline-block;line-height: 1.2em;}#sk-container-id-3 div.sk-label-container {text-align: center;}#sk-container-id-3 div.sk-container {/* jupyter's `normalize.less` sets `[hidden] { display: none; }` but bootstrap.min.css set `[hidden] { display: none !important; }` so we also need the `!important` here to be able to override the default hidden behavior on the sphinx rendered scikit-learn.org. See: https://github.com/scikit-learn/scikit-learn/issues/21755 */display: inline-block !important;position: relative;}#sk-container-id-3 div.sk-text-repr-fallback {display: none;}</style><div id=\"sk-container-id-3\" class=\"sk-top-container\"><div class=\"sk-text-repr-fallback\"><pre>RandomForestClassifier(max_depth=70, min_samples_split=9, n_estimators=200,\n",
       "                       random_state=8)</pre><b>In a Jupyter environment, please rerun this cell to show the HTML representation or trust the notebook. <br />On GitHub, the HTML representation is unable to render, please try loading this page with nbviewer.org.</b></div><div class=\"sk-container\" hidden><div class=\"sk-item\"><div class=\"sk-estimator sk-toggleable\"><input class=\"sk-toggleable__control sk-hidden--visually\" id=\"sk-estimator-id-5\" type=\"checkbox\" checked><label for=\"sk-estimator-id-5\" class=\"sk-toggleable__label sk-toggleable__label-arrow\">RandomForestClassifier</label><div class=\"sk-toggleable__content\"><pre>RandomForestClassifier(max_depth=70, min_samples_split=9, n_estimators=200,\n",
       "                       random_state=8)</pre></div></div></div></div></div>"
      ],
      "text/plain": [
       "RandomForestClassifier(max_depth=70, min_samples_split=9, n_estimators=200,\n",
       "                       random_state=8)"
      ]
     },
     "execution_count": 37,
     "metadata": {},
     "output_type": "execute_result"
    }
   ],
   "source": [
    "rf_randomized.fit(X_train, y_train)"
   ]
  },
  {
   "cell_type": "code",
   "execution_count": 39,
   "id": "f1e578c8-bba3-4414-b6cb-23e98b2a4c06",
   "metadata": {
    "tags": []
   },
   "outputs": [],
   "source": [
    "y_test_probs = rf_randomized.predict_proba(X_test)[:, 1]"
   ]
  },
  {
   "cell_type": "code",
   "execution_count": 40,
   "id": "358d80c9-4993-4db4-9f98-bfea0c776e47",
   "metadata": {
    "tags": []
   },
   "outputs": [],
   "source": [
    "submission_3 = submission_file(y_test_probs)"
   ]
  },
  {
   "cell_type": "code",
   "execution_count": 57,
   "id": "3afb5a0a-7b93-43a7-a467-2259a3e4acce",
   "metadata": {
    "tags": []
   },
   "outputs": [],
   "source": [
    "submission_3.to_csv('../data/submission/submission_rf_randmoizedsearch.csv', index=False)"
   ]
  },
  {
   "cell_type": "code",
   "execution_count": 41,
   "id": "e222dbf8-f823-40a6-83ae-caff418d56be",
   "metadata": {
    "tags": []
   },
   "outputs": [
    {
     "data": {
      "text/html": [
       "<div>\n",
       "<style scoped>\n",
       "    .dataframe tbody tr th:only-of-type {\n",
       "        vertical-align: middle;\n",
       "    }\n",
       "\n",
       "    .dataframe tbody tr th {\n",
       "        vertical-align: top;\n",
       "    }\n",
       "\n",
       "    .dataframe thead th {\n",
       "        text-align: right;\n",
       "    }\n",
       "</style>\n",
       "<table border=\"1\" class=\"dataframe\">\n",
       "  <thead>\n",
       "    <tr style=\"text-align: right;\">\n",
       "      <th></th>\n",
       "      <th>player_id</th>\n",
       "      <th>drafted</th>\n",
       "    </tr>\n",
       "  </thead>\n",
       "  <tbody>\n",
       "    <tr>\n",
       "      <th>0</th>\n",
       "      <td>cf302b4d-84f7-4124-a25d-a75eed31978b</td>\n",
       "      <td>0.0</td>\n",
       "    </tr>\n",
       "    <tr>\n",
       "      <th>1</th>\n",
       "      <td>f91837cd-4f49-4b70-963d-aeb82c6ce3da</td>\n",
       "      <td>0.0</td>\n",
       "    </tr>\n",
       "    <tr>\n",
       "      <th>2</th>\n",
       "      <td>53ec2a29-1e7d-4c6d-86d7-d60d02af8916</td>\n",
       "      <td>0.0</td>\n",
       "    </tr>\n",
       "    <tr>\n",
       "      <th>3</th>\n",
       "      <td>32402798-471c-4a54-8cb4-29cd95199014</td>\n",
       "      <td>0.0</td>\n",
       "    </tr>\n",
       "    <tr>\n",
       "      <th>4</th>\n",
       "      <td>73b960f9-27b8-4431-9d23-a760e9bbc360</td>\n",
       "      <td>0.0</td>\n",
       "    </tr>\n",
       "  </tbody>\n",
       "</table>\n",
       "</div>"
      ],
      "text/plain": [
       "                              player_id  drafted\n",
       "0  cf302b4d-84f7-4124-a25d-a75eed31978b      0.0\n",
       "1  f91837cd-4f49-4b70-963d-aeb82c6ce3da      0.0\n",
       "2  53ec2a29-1e7d-4c6d-86d7-d60d02af8916      0.0\n",
       "3  32402798-471c-4a54-8cb4-29cd95199014      0.0\n",
       "4  73b960f9-27b8-4431-9d23-a760e9bbc360      0.0"
      ]
     },
     "execution_count": 41,
     "metadata": {},
     "output_type": "execute_result"
    }
   ],
   "source": [
    "submission_3.head()"
   ]
  },
  {
   "cell_type": "code",
   "execution_count": 55,
   "id": "7b941ea7-996e-45d7-8c01-da422374168b",
   "metadata": {
    "tags": []
   },
   "outputs": [
    {
     "data": {
      "text/html": [
       "<div>\n",
       "<style scoped>\n",
       "    .dataframe tbody tr th:only-of-type {\n",
       "        vertical-align: middle;\n",
       "    }\n",
       "\n",
       "    .dataframe tbody tr th {\n",
       "        vertical-align: top;\n",
       "    }\n",
       "\n",
       "    .dataframe thead th {\n",
       "        text-align: right;\n",
       "    }\n",
       "</style>\n",
       "<table border=\"1\" class=\"dataframe\">\n",
       "  <thead>\n",
       "    <tr style=\"text-align: right;\">\n",
       "      <th></th>\n",
       "      <th>player_id</th>\n",
       "      <th>drafted</th>\n",
       "    </tr>\n",
       "  </thead>\n",
       "  <tbody>\n",
       "    <tr>\n",
       "      <th>0</th>\n",
       "      <td>cf302b4d-84f7-4124-a25d-a75eed31978b</td>\n",
       "      <td>0.0</td>\n",
       "    </tr>\n",
       "    <tr>\n",
       "      <th>1</th>\n",
       "      <td>f91837cd-4f49-4b70-963d-aeb82c6ce3da</td>\n",
       "      <td>0.0</td>\n",
       "    </tr>\n",
       "    <tr>\n",
       "      <th>2</th>\n",
       "      <td>53ec2a29-1e7d-4c6d-86d7-d60d02af8916</td>\n",
       "      <td>0.0</td>\n",
       "    </tr>\n",
       "    <tr>\n",
       "      <th>3</th>\n",
       "      <td>32402798-471c-4a54-8cb4-29cd95199014</td>\n",
       "      <td>0.0</td>\n",
       "    </tr>\n",
       "    <tr>\n",
       "      <th>4</th>\n",
       "      <td>73b960f9-27b8-4431-9d23-a760e9bbc360</td>\n",
       "      <td>0.0</td>\n",
       "    </tr>\n",
       "  </tbody>\n",
       "</table>\n",
       "</div>"
      ],
      "text/plain": [
       "                              player_id  drafted\n",
       "0  cf302b4d-84f7-4124-a25d-a75eed31978b      0.0\n",
       "1  f91837cd-4f49-4b70-963d-aeb82c6ce3da      0.0\n",
       "2  53ec2a29-1e7d-4c6d-86d7-d60d02af8916      0.0\n",
       "3  32402798-471c-4a54-8cb4-29cd95199014      0.0\n",
       "4  73b960f9-27b8-4431-9d23-a760e9bbc360      0.0"
      ]
     },
     "execution_count": 55,
     "metadata": {},
     "output_type": "execute_result"
    }
   ],
   "source": [
    "submission_1.head()"
   ]
  },
  {
   "cell_type": "code",
   "execution_count": 61,
   "id": "a9514064-1aae-46b3-bb02-fb456324cff9",
   "metadata": {
    "tags": []
   },
   "outputs": [
    {
     "name": "stdout",
     "output_type": "stream",
     "text": [
      "                                 player_id  drafted\n",
      "7     e7ebd32a-f567-4864-a319-384a7dce2719      0.0\n",
      "10    9c531aaf-977e-4137-90a9-9021caff9c92      0.1\n",
      "16    dcac95be-21a4-4d94-9e65-c59545a6e3eb      0.0\n",
      "39    7a727e8c-2480-4e1e-808e-06ea762c6a11      0.4\n",
      "44    e6ee7199-c545-4c05-9a5f-50f582734e30      0.6\n",
      "...                                    ...      ...\n",
      "4618  581e4ec5-7658-4a87-a993-4ef994f8f7f3      0.0\n",
      "4739  f5f0bbeb-db48-4449-a405-72ebc0a4d644      0.2\n",
      "4763  4ad095fd-045c-4887-a87a-e4faae16973d      0.0\n",
      "4791  5706b918-a8b6-44e6-98a1-b6476c3b194d      0.2\n",
      "4794  a0324389-7913-408e-bf58-cf8c6cc3c08e      0.0\n",
      "\n",
      "[244 rows x 2 columns]\n"
     ]
    }
   ],
   "source": [
    "merge_df = submission_1.merge(submission_3, on='player_id', suffixes=['_rf', '_rf_tune'])\n",
    "merge_df['diff'] = abs(merge_df['drafted_rf'] - merge_df['drafted_rf_tune'])\n",
    "diffrent_rows = merge_df[merge_df['diff'] > 0]\n",
    "print(different_rows)"
   ]
  },
  {
   "cell_type": "code",
   "execution_count": null,
   "id": "1617df6f-1590-4e57-85b4-5536b8f32ac2",
   "metadata": {},
   "outputs": [],
   "source": []
  },
  {
   "cell_type": "markdown",
   "id": "232896d9-3af6-4afc-9f08-eb1af37332a1",
   "metadata": {},
   "source": [
    "#### Hyperparameter Tuning with n_estimators"
   ]
  },
  {
   "cell_type": "markdown",
   "id": "6f872657-67d5-4422-a2bf-7cc66a4e28bc",
   "metadata": {},
   "source": [
    "default = 100"
   ]
  },
  {
   "cell_type": "code",
   "execution_count": 19,
   "id": "abb19b28-7831-4c30-b79c-17c14aac238a",
   "metadata": {
    "tags": []
   },
   "outputs": [],
   "source": [
    "n_estimators = [2, 5, 10, 20, 50, 100, 150, 200, 250, 300, 350, 400, 450, 500]"
   ]
  },
  {
   "cell_type": "code",
   "execution_count": 20,
   "id": "bdf8615c-8d46-4360-b6ad-e404c17c79a8",
   "metadata": {
    "tags": []
   },
   "outputs": [
    {
     "name": "stdout",
     "output_type": "stream",
     "text": [
      "     train_score  val_score\n",
      "2       0.999575   0.997724\n",
      "5       0.999976   0.999651\n",
      "10      1.000000   0.999935\n",
      "20      1.000000   0.999960\n",
      "50      1.000000   0.999963\n",
      "100     1.000000   0.999966\n",
      "150     1.000000   0.999965\n",
      "200     1.000000   0.999964\n",
      "250     1.000000   0.999964\n",
      "300     1.000000   0.999965\n",
      "350     1.000000   0.999965\n",
      "400     1.000000   0.999965\n",
      "450     1.000000   0.999966\n",
      "500     1.000000   0.999966\n"
     ]
    }
   ],
   "source": [
    "train_score = []\n",
    "val_score = []\n",
    "    \n",
    "for i in n_estimators:\n",
    "    rf = RandomForestClassifier(random_state=8, n_estimators=i).fit(X_train, y_train)\n",
    "    y_train_probs = rf.predict_proba(X_train)[:, 1]\n",
    "    y_val_probs = rf.predict_proba(X_val)[:, 1]\n",
    "        \n",
    "    train_score.append(roc_auc_score(y_train, y_train_probs))\n",
    "    val_score.append(roc_auc_score(y_val, y_val_probs))       \n",
    "    \n",
    "score = pd.DataFrame({'train_score': train_score,\n",
    "                         'val_score': val_score}, index=n_estimators)\n",
    "print(score)"
   ]
  },
  {
   "cell_type": "markdown",
   "id": "779f4a82-75a3-4e08-88c4-f8461fa10ce0",
   "metadata": {},
   "source": [
    "#### Hyperparameter Tuning with Max Depth"
   ]
  },
  {
   "cell_type": "markdown",
   "id": "4ac73500-1e12-495c-a047-cb3698c0cce4",
   "metadata": {},
   "source": [
    "default = None"
   ]
  },
  {
   "cell_type": "code",
   "execution_count": 23,
   "id": "1a74aa6e-3cda-434a-901a-e60614b7bedf",
   "metadata": {
    "tags": []
   },
   "outputs": [],
   "source": [
    "max_depth = [2, 5, 10, 20, 50, 100, 150, 200, None]"
   ]
  },
  {
   "cell_type": "code",
   "execution_count": 24,
   "id": "2a70c145-3f71-477a-804a-26f2394f5c53",
   "metadata": {
    "tags": []
   },
   "outputs": [
    {
     "name": "stdout",
     "output_type": "stream",
     "text": [
      "       train_score  val_score\n",
      "2.0       0.981876   0.981905\n",
      "5.0       0.992425   0.992735\n",
      "10.0      0.999420   0.999391\n",
      "20.0      0.999960   0.999927\n",
      "50.0      1.000000   0.999961\n",
      "100.0     1.000000   0.999966\n",
      "150.0     1.000000   0.999966\n",
      "200.0     1.000000   0.999966\n",
      "NaN       1.000000   0.999966\n"
     ]
    }
   ],
   "source": [
    "train_score = []\n",
    "val_score = []\n",
    "n_estimators = 100\n",
    "    \n",
    "for i in max_depth:\n",
    "    rf = RandomForestClassifier(random_state=8, n_estimators=n_estimators, max_depth=i).fit(X_train, y_train)\n",
    "    y_train_probs = rf.predict_proba(X_train)[:, 1]\n",
    "    y_val_probs = rf.predict_proba(X_val)[:, 1]\n",
    "        \n",
    "    train_score.append(roc_auc_score(y_train, y_train_probs))\n",
    "    val_score.append(roc_auc_score(y_val, y_val_probs))       \n",
    "    \n",
    "score = pd.DataFrame({'train_score': train_score,\n",
    "                         'val_score': val_score}, index=max_depth)\n",
    "print(score)"
   ]
  },
  {
   "cell_type": "markdown",
   "id": "bede1f7c-723c-461b-8103-90b92ab99bcb",
   "metadata": {},
   "source": [
    "#### Hyperparameter Tuning with Min Sample Split"
   ]
  },
  {
   "cell_type": "markdown",
   "id": "2fe163a1-e990-4cea-bd0b-87b5c29f6bfc",
   "metadata": {},
   "source": [
    "Penalties support by solver were 'l2', and 'none'"
   ]
  },
  {
   "cell_type": "markdown",
   "id": "b9bed035-fb08-4b37-a051-8f4b051b0b61",
   "metadata": {},
   "source": [
    "default = 2"
   ]
  },
  {
   "cell_type": "code",
   "execution_count": 26,
   "id": "cc6e23e8-f9df-4f64-899a-ce7dd91e1a9b",
   "metadata": {
    "tags": []
   },
   "outputs": [],
   "source": [
    "min_samples_split = [2, 5, 10, 15, 20, 50, 100]"
   ]
  },
  {
   "cell_type": "code",
   "execution_count": 27,
   "id": "43cc790c-d3d2-494f-b081-2638655a1465",
   "metadata": {
    "tags": []
   },
   "outputs": [
    {
     "name": "stdout",
     "output_type": "stream",
     "text": [
      "     train_score  val_score\n",
      "2       1.000000   0.999966\n",
      "5       1.000000   0.999957\n",
      "10      1.000000   0.999958\n",
      "15      1.000000   0.999956\n",
      "20      0.999999   0.999943\n",
      "50      0.999988   0.999918\n",
      "100     0.999965   0.999849\n"
     ]
    }
   ],
   "source": [
    "train_score = []\n",
    "val_score = []\n",
    "n_estimators = 100\n",
    "max_depth = None\n",
    "\n",
    "for i in min_samples_split:\n",
    "    rg = RandomForestClassifier(random_state=8, n_estimators=n_estimators, max_depth=max_depth, min_samples_split=i).fit(X_train, y_train)\n",
    "    y_train_probs = rg.predict_proba(X_train)[:, 1]\n",
    "    y_val_probs = rg.predict_proba(X_val)[:, 1]\n",
    "        \n",
    "    train_score.append(roc_auc_score(y_train, y_train_probs))\n",
    "    val_score.append(roc_auc_score(y_val, y_val_probs))       \n",
    "    \n",
    "score = pd.DataFrame({'train_score': train_score,\n",
    "                         'val_score': val_score}, index=min_samples_split)\n",
    "print(score)"
   ]
  },
  {
   "cell_type": "markdown",
   "id": "dea2da9a-f68e-4e37-9f45-db4f4ee0831f",
   "metadata": {},
   "source": [
    "#### Hyperparameter Tuning with Min Samples Leaf"
   ]
  },
  {
   "cell_type": "markdown",
   "id": "df5c6675-d385-4b2c-92c2-9f8f606438ab",
   "metadata": {},
   "source": [
    "default = 1"
   ]
  },
  {
   "cell_type": "code",
   "execution_count": 29,
   "id": "a0275bec-54f8-4861-ab24-fb951d7d134d",
   "metadata": {
    "tags": []
   },
   "outputs": [],
   "source": [
    "min_samples_leaf = [1, 2, 5, 10, 15, 20, 25, 30, 35, 40, 45, 50]"
   ]
  },
  {
   "cell_type": "code",
   "execution_count": 31,
   "id": "cdda1a32-a405-4eba-ad9a-aa3e4a8f3f3f",
   "metadata": {
    "tags": []
   },
   "outputs": [
    {
     "name": "stdout",
     "output_type": "stream",
     "text": [
      "    train_score  val_score\n",
      "1      1.000000   0.999966\n",
      "2      1.000000   0.999963\n",
      "5      0.999995   0.999943\n",
      "10     0.999980   0.999910\n",
      "15     0.999951   0.999834\n",
      "20     0.999902   0.999753\n",
      "25     0.999834   0.999646\n",
      "30     0.999745   0.999539\n",
      "35     0.999608   0.999349\n",
      "40     0.999511   0.999253\n",
      "45     0.999374   0.999127\n",
      "50     0.999182   0.998850\n"
     ]
    }
   ],
   "source": [
    "train_score = []\n",
    "val_score = []\n",
    "n_estimators = 100\n",
    "max_depth = None\n",
    "min_samples_split = 2\n",
    "    \n",
    "for i in min_samples_leaf:\n",
    "    rg = RandomForestClassifier(random_state=8, n_estimators=n_estimators,  max_depth=max_depth, min_samples_split=min_samples_split, min_samples_leaf=i).fit(X_train, y_train)\n",
    "    y_train_probs = rg.predict_proba(X_train)[:, 1]\n",
    "    y_val_probs = rg.predict_proba(X_val)[:, 1]\n",
    "        \n",
    "    train_score.append(roc_auc_score(y_train, y_train_probs))\n",
    "    val_score.append(roc_auc_score(y_val, y_val_probs))       \n",
    "    \n",
    "score = pd.DataFrame({'train_score': train_score,\n",
    "                         'val_score': val_score}, index=min_samples_leaf)\n",
    "print(score)"
   ]
  },
  {
   "cell_type": "markdown",
   "id": "26b20872-9a1e-49da-ae4e-2de21a22f4f2",
   "metadata": {},
   "source": [
    "#### Hyperparameter Tuning with Max Features"
   ]
  },
  {
   "cell_type": "markdown",
   "id": "a9a15e02-7811-4c29-8ac2-2f364344bd0b",
   "metadata": {},
   "source": [
    "default = sqrt"
   ]
  },
  {
   "cell_type": "code",
   "execution_count": 9,
   "id": "3d44f752-99f2-43c7-9835-8a982033edda",
   "metadata": {
    "tags": []
   },
   "outputs": [],
   "source": [
    "max_features = ['sqrt', 'log2', None]"
   ]
  },
  {
   "cell_type": "code",
   "execution_count": 10,
   "id": "2ab75225-5094-4ae4-988c-ad2c35fe5db5",
   "metadata": {
    "tags": []
   },
   "outputs": [
    {
     "name": "stdout",
     "output_type": "stream",
     "text": [
      "      train_score  val_score\n",
      "sqrt          1.0   0.999966\n",
      "log2          1.0   0.999968\n",
      "None          1.0   0.999900\n"
     ]
    }
   ],
   "source": [
    "train_score = []\n",
    "val_score = []\n",
    "n_estimators = 100\n",
    "max_depth = None\n",
    "min_samples_split = 2\n",
    "min_samples_leaf = 1\n",
    "    \n",
    "for i in max_features:\n",
    "    rg = RandomForestClassifier(random_state=8, n_estimators=n_estimators,  max_depth=max_depth, min_samples_split=min_samples_split, min_samples_leaf=1, max_features=i).fit(X_train, y_train)\n",
    "    y_train_probs = rg.predict_proba(X_train)[:, 1]\n",
    "    y_val_probs = rg.predict_proba(X_val)[:, 1]\n",
    "        \n",
    "    train_score.append(roc_auc_score(y_train, y_train_probs))\n",
    "    val_score.append(roc_auc_score(y_val, y_val_probs))       \n",
    "    \n",
    "score = pd.DataFrame({'train_score': train_score,\n",
    "                         'val_score': val_score}, index=max_features)\n",
    "print(score)\n"
   ]
  },
  {
   "cell_type": "markdown",
   "id": "ecd7778d-aed3-4249-a549-6651561f58b5",
   "metadata": {},
   "source": [
    "### Model after hyperparameter tuning"
   ]
  },
  {
   "cell_type": "code",
   "execution_count": 12,
   "id": "c24018fc-5e03-4daa-864d-63d577d0067b",
   "metadata": {
    "tags": []
   },
   "outputs": [
    {
     "data": {
      "text/html": [
       "<style>#sk-container-id-2 {color: black;background-color: white;}#sk-container-id-2 pre{padding: 0;}#sk-container-id-2 div.sk-toggleable {background-color: white;}#sk-container-id-2 label.sk-toggleable__label {cursor: pointer;display: block;width: 100%;margin-bottom: 0;padding: 0.3em;box-sizing: border-box;text-align: center;}#sk-container-id-2 label.sk-toggleable__label-arrow:before {content: \"▸\";float: left;margin-right: 0.25em;color: #696969;}#sk-container-id-2 label.sk-toggleable__label-arrow:hover:before {color: black;}#sk-container-id-2 div.sk-estimator:hover label.sk-toggleable__label-arrow:before {color: black;}#sk-container-id-2 div.sk-toggleable__content {max-height: 0;max-width: 0;overflow: hidden;text-align: left;background-color: #f0f8ff;}#sk-container-id-2 div.sk-toggleable__content pre {margin: 0.2em;color: black;border-radius: 0.25em;background-color: #f0f8ff;}#sk-container-id-2 input.sk-toggleable__control:checked~div.sk-toggleable__content {max-height: 200px;max-width: 100%;overflow: auto;}#sk-container-id-2 input.sk-toggleable__control:checked~label.sk-toggleable__label-arrow:before {content: \"▾\";}#sk-container-id-2 div.sk-estimator input.sk-toggleable__control:checked~label.sk-toggleable__label {background-color: #d4ebff;}#sk-container-id-2 div.sk-label input.sk-toggleable__control:checked~label.sk-toggleable__label {background-color: #d4ebff;}#sk-container-id-2 input.sk-hidden--visually {border: 0;clip: rect(1px 1px 1px 1px);clip: rect(1px, 1px, 1px, 1px);height: 1px;margin: -1px;overflow: hidden;padding: 0;position: absolute;width: 1px;}#sk-container-id-2 div.sk-estimator {font-family: monospace;background-color: #f0f8ff;border: 1px dotted black;border-radius: 0.25em;box-sizing: border-box;margin-bottom: 0.5em;}#sk-container-id-2 div.sk-estimator:hover {background-color: #d4ebff;}#sk-container-id-2 div.sk-parallel-item::after {content: \"\";width: 100%;border-bottom: 1px solid gray;flex-grow: 1;}#sk-container-id-2 div.sk-label:hover label.sk-toggleable__label {background-color: #d4ebff;}#sk-container-id-2 div.sk-serial::before {content: \"\";position: absolute;border-left: 1px solid gray;box-sizing: border-box;top: 0;bottom: 0;left: 50%;z-index: 0;}#sk-container-id-2 div.sk-serial {display: flex;flex-direction: column;align-items: center;background-color: white;padding-right: 0.2em;padding-left: 0.2em;position: relative;}#sk-container-id-2 div.sk-item {position: relative;z-index: 1;}#sk-container-id-2 div.sk-parallel {display: flex;align-items: stretch;justify-content: center;background-color: white;position: relative;}#sk-container-id-2 div.sk-item::before, #sk-container-id-2 div.sk-parallel-item::before {content: \"\";position: absolute;border-left: 1px solid gray;box-sizing: border-box;top: 0;bottom: 0;left: 50%;z-index: -1;}#sk-container-id-2 div.sk-parallel-item {display: flex;flex-direction: column;z-index: 1;position: relative;background-color: white;}#sk-container-id-2 div.sk-parallel-item:first-child::after {align-self: flex-end;width: 50%;}#sk-container-id-2 div.sk-parallel-item:last-child::after {align-self: flex-start;width: 50%;}#sk-container-id-2 div.sk-parallel-item:only-child::after {width: 0;}#sk-container-id-2 div.sk-dashed-wrapped {border: 1px dashed gray;margin: 0 0.4em 0.5em 0.4em;box-sizing: border-box;padding-bottom: 0.4em;background-color: white;}#sk-container-id-2 div.sk-label label {font-family: monospace;font-weight: bold;display: inline-block;line-height: 1.2em;}#sk-container-id-2 div.sk-label-container {text-align: center;}#sk-container-id-2 div.sk-container {/* jupyter's `normalize.less` sets `[hidden] { display: none; }` but bootstrap.min.css set `[hidden] { display: none !important; }` so we also need the `!important` here to be able to override the default hidden behavior on the sphinx rendered scikit-learn.org. See: https://github.com/scikit-learn/scikit-learn/issues/21755 */display: inline-block !important;position: relative;}#sk-container-id-2 div.sk-text-repr-fallback {display: none;}</style><div id=\"sk-container-id-2\" class=\"sk-top-container\"><div class=\"sk-text-repr-fallback\"><pre>RandomForestClassifier(max_features=&#x27;log2&#x27;, random_state=8)</pre><b>In a Jupyter environment, please rerun this cell to show the HTML representation or trust the notebook. <br />On GitHub, the HTML representation is unable to render, please try loading this page with nbviewer.org.</b></div><div class=\"sk-container\" hidden><div class=\"sk-item\"><div class=\"sk-estimator sk-toggleable\"><input class=\"sk-toggleable__control sk-hidden--visually\" id=\"sk-estimator-id-2\" type=\"checkbox\" checked><label for=\"sk-estimator-id-2\" class=\"sk-toggleable__label sk-toggleable__label-arrow\">RandomForestClassifier</label><div class=\"sk-toggleable__content\"><pre>RandomForestClassifier(max_features=&#x27;log2&#x27;, random_state=8)</pre></div></div></div></div></div>"
      ],
      "text/plain": [
       "RandomForestClassifier(max_features='log2', random_state=8)"
      ]
     },
     "execution_count": 12,
     "metadata": {},
     "output_type": "execute_result"
    }
   ],
   "source": [
    "rf_tune = RandomForestClassifier(random_state=8, n_estimators=n_estimators,  max_depth=max_depth, min_samples_split=min_samples_split, min_samples_leaf=1, max_features='log2')\n",
    "rf_tune.fit(X_train, y_train)"
   ]
  },
  {
   "cell_type": "code",
   "execution_count": 13,
   "id": "9b153f1b-210f-449c-ac1c-2ff6dc15495e",
   "metadata": {
    "tags": []
   },
   "outputs": [
    {
     "data": {
      "text/plain": [
       "['../models/rf_tune.joblib']"
      ]
     },
     "execution_count": 13,
     "metadata": {},
     "output_type": "execute_result"
    }
   ],
   "source": [
    "dump(rf_tune, '../models/rf_tune.joblib')"
   ]
  },
  {
   "cell_type": "code",
   "execution_count": 22,
   "id": "0e12de91-807a-497d-a517-59d20af7001e",
   "metadata": {
    "tags": []
   },
   "outputs": [
    {
     "name": "stdout",
     "output_type": "stream",
     "text": [
      "                roc-auc score\n",
      "Training Set         1.000000\n",
      "Validation Set       0.999968\n"
     ]
    },
    {
     "data": {
      "image/png": "[encoded data removed]",
      "text/plain": [
       "<Figure size 640x480 with 1 Axes>"
      ]
     },
     "metadata": {},
     "output_type": "display_data"
    }
   ],
   "source": [
    "random_forest(rf_tune)"
   ]
  },
  {
   "cell_type": "code",
   "execution_count": 23,
   "id": "ee07158b-8d0d-4ada-ae9f-4de4afd5d0b7",
   "metadata": {
    "tags": []
   },
   "outputs": [],
   "source": [
    "y_test_probs_2 = rf_tune.predict_proba(X_test)[:, 1]"
   ]
  },
  {
   "cell_type": "code",
   "execution_count": 26,
   "id": "e85d32c9-b18b-4cb2-a056-7df3b2dd4c7e",
   "metadata": {
    "tags": []
   },
   "outputs": [],
   "source": [
    "submission_2 = submission_file(y_test_probs_2)"
   ]
  },
  {
   "cell_type": "code",
   "execution_count": 27,
   "id": "edfdb1a9-b7a2-47f9-963d-6cd450174c14",
   "metadata": {
    "tags": []
   },
   "outputs": [
    {
     "data": {
      "text/html": [
       "<div>\n",
       "<style scoped>\n",
       "    .dataframe tbody tr th:only-of-type {\n",
       "        vertical-align: middle;\n",
       "    }\n",
       "\n",
       "    .dataframe tbody tr th {\n",
       "        vertical-align: top;\n",
       "    }\n",
       "\n",
       "    .dataframe thead th {\n",
       "        text-align: right;\n",
       "    }\n",
       "</style>\n",
       "<table border=\"1\" class=\"dataframe\">\n",
       "  <thead>\n",
       "    <tr style=\"text-align: right;\">\n",
       "      <th></th>\n",
       "      <th>player_id</th>\n",
       "      <th>drafted</th>\n",
       "    </tr>\n",
       "  </thead>\n",
       "  <tbody>\n",
       "    <tr>\n",
       "      <th>0</th>\n",
       "      <td>cf302b4d-84f7-4124-a25d-a75eed31978b</td>\n",
       "      <td>0.0</td>\n",
       "    </tr>\n",
       "    <tr>\n",
       "      <th>1</th>\n",
       "      <td>f91837cd-4f49-4b70-963d-aeb82c6ce3da</td>\n",
       "      <td>0.0</td>\n",
       "    </tr>\n",
       "    <tr>\n",
       "      <th>2</th>\n",
       "      <td>53ec2a29-1e7d-4c6d-86d7-d60d02af8916</td>\n",
       "      <td>0.0</td>\n",
       "    </tr>\n",
       "    <tr>\n",
       "      <th>3</th>\n",
       "      <td>32402798-471c-4a54-8cb4-29cd95199014</td>\n",
       "      <td>0.0</td>\n",
       "    </tr>\n",
       "    <tr>\n",
       "      <th>4</th>\n",
       "      <td>73b960f9-27b8-4431-9d23-a760e9bbc360</td>\n",
       "      <td>0.0</td>\n",
       "    </tr>\n",
       "    <tr>\n",
       "      <th>...</th>\n",
       "      <td>...</td>\n",
       "      <td>...</td>\n",
       "    </tr>\n",
       "    <tr>\n",
       "      <th>4965</th>\n",
       "      <td>a25ee55f-02a3-4f8e-8194-a5f427e14e7c</td>\n",
       "      <td>0.0</td>\n",
       "    </tr>\n",
       "    <tr>\n",
       "      <th>4966</th>\n",
       "      <td>d0d9f45e-7b01-44b3-8d40-514ec338611d</td>\n",
       "      <td>0.0</td>\n",
       "    </tr>\n",
       "    <tr>\n",
       "      <th>4967</th>\n",
       "      <td>f8df22c4-1602-4fab-896d-8820951aae2f</td>\n",
       "      <td>0.0</td>\n",
       "    </tr>\n",
       "    <tr>\n",
       "      <th>4968</th>\n",
       "      <td>b791c69a-f769-4163-afda-051a6fd20a9d</td>\n",
       "      <td>0.0</td>\n",
       "    </tr>\n",
       "    <tr>\n",
       "      <th>4969</th>\n",
       "      <td>18b51f5d-4746-4121-88fd-c8d0a1399130</td>\n",
       "      <td>0.0</td>\n",
       "    </tr>\n",
       "  </tbody>\n",
       "</table>\n",
       "<p>4970 rows × 2 columns</p>\n",
       "</div>"
      ],
      "text/plain": [
       "                                 player_id  drafted\n",
       "0     cf302b4d-84f7-4124-a25d-a75eed31978b      0.0\n",
       "1     f91837cd-4f49-4b70-963d-aeb82c6ce3da      0.0\n",
       "2     53ec2a29-1e7d-4c6d-86d7-d60d02af8916      0.0\n",
       "3     32402798-471c-4a54-8cb4-29cd95199014      0.0\n",
       "4     73b960f9-27b8-4431-9d23-a760e9bbc360      0.0\n",
       "...                                    ...      ...\n",
       "4965  a25ee55f-02a3-4f8e-8194-a5f427e14e7c      0.0\n",
       "4966  d0d9f45e-7b01-44b3-8d40-514ec338611d      0.0\n",
       "4967  f8df22c4-1602-4fab-896d-8820951aae2f      0.0\n",
       "4968  b791c69a-f769-4163-afda-051a6fd20a9d      0.0\n",
       "4969  18b51f5d-4746-4121-88fd-c8d0a1399130      0.0\n",
       "\n",
       "[4970 rows x 2 columns]"
      ]
     },
     "execution_count": 27,
     "metadata": {},
     "output_type": "execute_result"
    }
   ],
   "source": [
    "submission_2"
   ]
  },
  {
   "cell_type": "code",
   "execution_count": 28,
   "id": "e9803ac4-3708-4d42-a74e-b881622792b0",
   "metadata": {
    "tags": []
   },
   "outputs": [],
   "source": [
    "submission_2.to_csv('../data/submission/submission_rf_tune.csv', index=False)"
   ]
  }
 ],
 "metadata": {
  "kernelspec": {
   "display_name": "Python 3 (ipykernel)",
   "language": "python",
   "name": "python3"
  },
  "language_info": {
   "codemirror_mode": {
    "name": "ipython",
    "version": 3
   },
   "file_extension": ".py",
   "mimetype": "text/x-python",
   "name": "python",
   "nbconvert_exporter": "python",
   "pygments_lexer": "ipython3",
   "version": "3.9.13"
  }
 },
 "nbformat": 4,
 "nbformat_minor": 5
}

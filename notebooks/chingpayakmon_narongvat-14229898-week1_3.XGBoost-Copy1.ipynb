{
 "cells": [
  {
   "cell_type": "code",
   "execution_count": 16,
   "id": "096d1694-a1fd-4c4a-a644-3ee06aa1b65b",
   "metadata": {
    "tags": []
   },
   "outputs": [
    {
     "name": "stdout",
     "output_type": "stream",
     "text": [
      "The autoreload extension is already loaded. To reload it, use:\n",
      "  %reload_ext autoreload\n"
     ]
    }
   ],
   "source": [
    "%load_ext autoreload\n",
    "%autoreload 2"
   ]
  },
  {
   "cell_type": "code",
   "execution_count": 17,
   "id": "4f5d7a88-babb-45a8-a0b8-4a724b0e5700",
   "metadata": {
    "tags": []
   },
   "outputs": [],
   "source": [
    "import pandas as pd\n",
    "import numpy as np\n",
    "from joblib import dump"
   ]
  },
  {
   "cell_type": "markdown",
   "id": "d1b636f6-cd50-4ff2-bbbf-e40552671f99",
   "metadata": {},
   "source": [
    "We will load our processed data."
   ]
  },
  {
   "cell_type": "code",
   "execution_count": 18,
   "id": "2c18256a-5b1b-4969-bc7c-b33285bd4770",
   "metadata": {
    "tags": []
   },
   "outputs": [],
   "source": [
    "X_train = pd.read_csv('../data/processed/X_train_smote.csv')\n",
    "X_val = pd.read_csv('../data/processed/X_val_smote.csv')\n",
    "y_train = pd.read_csv('../data/processed/y_train_smote.csv')\n",
    "y_val = pd.read_csv('../data/processed/y_val_smote.csv')\n",
    "X_test = pd.read_csv('../data/processed/X_test_smote.csv')"
   ]
  },
  {
   "cell_type": "code",
   "execution_count": 19,
   "id": "1c18fa3a-0c08-4377-b98e-aa8825c2dd6b",
   "metadata": {
    "tags": []
   },
   "outputs": [],
   "source": [
    "y_train = y_train.values.ravel()\n",
    "y_val = y_val.values.ravel()"
   ]
  },
  {
   "cell_type": "markdown",
   "id": "bb5406a5-89e8-4374-8a8e-43c94f48de1f",
   "metadata": {},
   "source": [
    "### 3. Random Forest"
   ]
  },
  {
   "cell_type": "code",
   "execution_count": 20,
   "id": "bcc04085-0ee7-40d4-8c99-ef165ba8bccc",
   "metadata": {
    "tags": []
   },
   "outputs": [],
   "source": [
    "from sklearn.ensemble import RandomForestClassifier\n",
    "from sklearn.metrics import roc_auc_score, roc_curve\n",
    "import matplotlib.pyplot as plt"
   ]
  },
  {
   "cell_type": "markdown",
   "id": "0fb5d632-0d39-4010-85ec-2648e5d3baa1",
   "metadata": {},
   "source": [
    "Fit the model without hyperparameter tuning."
   ]
  },
  {
   "cell_type": "code",
   "execution_count": 8,
   "id": "7f7cc5e4-9d9e-401e-a9b8-f28e5d9ebae3",
   "metadata": {
    "tags": []
   },
   "outputs": [
    {
     "data": {
      "text/html": [
       "<style>#sk-container-id-1 {color: black;background-color: white;}#sk-container-id-1 pre{padding: 0;}#sk-container-id-1 div.sk-toggleable {background-color: white;}#sk-container-id-1 label.sk-toggleable__label {cursor: pointer;display: block;width: 100%;margin-bottom: 0;padding: 0.3em;box-sizing: border-box;text-align: center;}#sk-container-id-1 label.sk-toggleable__label-arrow:before {content: \"▸\";float: left;margin-right: 0.25em;color: #696969;}#sk-container-id-1 label.sk-toggleable__label-arrow:hover:before {color: black;}#sk-container-id-1 div.sk-estimator:hover label.sk-toggleable__label-arrow:before {color: black;}#sk-container-id-1 div.sk-toggleable__content {max-height: 0;max-width: 0;overflow: hidden;text-align: left;background-color: #f0f8ff;}#sk-container-id-1 div.sk-toggleable__content pre {margin: 0.2em;color: black;border-radius: 0.25em;background-color: #f0f8ff;}#sk-container-id-1 input.sk-toggleable__control:checked~div.sk-toggleable__content {max-height: 200px;max-width: 100%;overflow: auto;}#sk-container-id-1 input.sk-toggleable__control:checked~label.sk-toggleable__label-arrow:before {content: \"▾\";}#sk-container-id-1 div.sk-estimator input.sk-toggleable__control:checked~label.sk-toggleable__label {background-color: #d4ebff;}#sk-container-id-1 div.sk-label input.sk-toggleable__control:checked~label.sk-toggleable__label {background-color: #d4ebff;}#sk-container-id-1 input.sk-hidden--visually {border: 0;clip: rect(1px 1px 1px 1px);clip: rect(1px, 1px, 1px, 1px);height: 1px;margin: -1px;overflow: hidden;padding: 0;position: absolute;width: 1px;}#sk-container-id-1 div.sk-estimator {font-family: monospace;background-color: #f0f8ff;border: 1px dotted black;border-radius: 0.25em;box-sizing: border-box;margin-bottom: 0.5em;}#sk-container-id-1 div.sk-estimator:hover {background-color: #d4ebff;}#sk-container-id-1 div.sk-parallel-item::after {content: \"\";width: 100%;border-bottom: 1px solid gray;flex-grow: 1;}#sk-container-id-1 div.sk-label:hover label.sk-toggleable__label {background-color: #d4ebff;}#sk-container-id-1 div.sk-serial::before {content: \"\";position: absolute;border-left: 1px solid gray;box-sizing: border-box;top: 0;bottom: 0;left: 50%;z-index: 0;}#sk-container-id-1 div.sk-serial {display: flex;flex-direction: column;align-items: center;background-color: white;padding-right: 0.2em;padding-left: 0.2em;position: relative;}#sk-container-id-1 div.sk-item {position: relative;z-index: 1;}#sk-container-id-1 div.sk-parallel {display: flex;align-items: stretch;justify-content: center;background-color: white;position: relative;}#sk-container-id-1 div.sk-item::before, #sk-container-id-1 div.sk-parallel-item::before {content: \"\";position: absolute;border-left: 1px solid gray;box-sizing: border-box;top: 0;bottom: 0;left: 50%;z-index: -1;}#sk-container-id-1 div.sk-parallel-item {display: flex;flex-direction: column;z-index: 1;position: relative;background-color: white;}#sk-container-id-1 div.sk-parallel-item:first-child::after {align-self: flex-end;width: 50%;}#sk-container-id-1 div.sk-parallel-item:last-child::after {align-self: flex-start;width: 50%;}#sk-container-id-1 div.sk-parallel-item:only-child::after {width: 0;}#sk-container-id-1 div.sk-dashed-wrapped {border: 1px dashed gray;margin: 0 0.4em 0.5em 0.4em;box-sizing: border-box;padding-bottom: 0.4em;background-color: white;}#sk-container-id-1 div.sk-label label {font-family: monospace;font-weight: bold;display: inline-block;line-height: 1.2em;}#sk-container-id-1 div.sk-label-container {text-align: center;}#sk-container-id-1 div.sk-container {/* jupyter's `normalize.less` sets `[hidden] { display: none; }` but bootstrap.min.css set `[hidden] { display: none !important; }` so we also need the `!important` here to be able to override the default hidden behavior on the sphinx rendered scikit-learn.org. See: https://github.com/scikit-learn/scikit-learn/issues/21755 */display: inline-block !important;position: relative;}#sk-container-id-1 div.sk-text-repr-fallback {display: none;}</style><div id=\"sk-container-id-1\" class=\"sk-top-container\"><div class=\"sk-text-repr-fallback\"><pre>RandomForestClassifier(random_state=8)</pre><b>In a Jupyter environment, please rerun this cell to show the HTML representation or trust the notebook. <br />On GitHub, the HTML representation is unable to render, please try loading this page with nbviewer.org.</b></div><div class=\"sk-container\" hidden><div class=\"sk-item\"><div class=\"sk-estimator sk-toggleable\"><input class=\"sk-toggleable__control sk-hidden--visually\" id=\"sk-estimator-id-1\" type=\"checkbox\" checked><label for=\"sk-estimator-id-1\" class=\"sk-toggleable__label sk-toggleable__label-arrow\">RandomForestClassifier</label><div class=\"sk-toggleable__content\"><pre>RandomForestClassifier(random_state=8)</pre></div></div></div></div></div>"
      ],
      "text/plain": [
       "RandomForestClassifier(random_state=8)"
      ]
     },
     "execution_count": 8,
     "metadata": {},
     "output_type": "execute_result"
    }
   ],
   "source": [
    "rf_reg = RandomForestClassifier(random_state=8)\n",
    "rf_reg.fit(X_train, y_train)"
   ]
  },
  {
   "cell_type": "code",
   "execution_count": 8,
   "id": "2cbc9704-8f38-40b2-bc11-88f4603de830",
   "metadata": {
    "tags": []
   },
   "outputs": [
    {
     "data": {
      "text/plain": [
       "['../models/rf_reg.joblib']"
      ]
     },
     "execution_count": 8,
     "metadata": {},
     "output_type": "execute_result"
    }
   ],
   "source": [
    "from joblib import dump\n",
    "\n",
    "dump(rf_reg, '../models/rf_reg.joblib')"
   ]
  },
  {
   "cell_type": "code",
   "execution_count": 21,
   "id": "30e60264-b8fb-4dbc-a26c-23478d3e8bc7",
   "metadata": {
    "tags": []
   },
   "outputs": [],
   "source": [
    "def random_forest(model):\n",
    "    y_train_probs = model.predict_proba(X_train)[:, 1]\n",
    "    y_val_probs = model.predict_proba(X_val)[:, 1]\n",
    "\n",
    "    train_score = pd.DataFrame({'roc-auc score': roc_auc_score(y_train, y_train_probs)}, index=['Training Set'])\n",
    "    val_score = pd.DataFrame({'roc-auc score': roc_auc_score(y_val, y_val_probs)}, index=['Validation Set'])\n",
    "\n",
    "    score = pd.concat([train_score, val_score])\n",
    "    print(score)\n",
    "    \n",
    "    fpr_train, tpr_train, _ = roc_curve(y_train, y_train_probs)\n",
    "    fpr_val, tpr_val, _ = roc_curve(y_val, y_val_probs)\n",
    "    \n",
    "    plt.plot(fpr_train, tpr_train, label='Train ROC-curve')\n",
    "    plt.plot(fpr_val, tpr_val, label='Validate ROC-curve')\n",
    "\n",
    "    plt.xlabel('False Positive Rate')\n",
    "    plt.ylabel('True Positive Rate')\n",
    "    plt.title('ROC-Curve')\n",
    "    plt.legend()\n",
    "    \n",
    "    plt.show()"
   ]
  },
  {
   "cell_type": "code",
   "execution_count": 10,
   "id": "078b3ad9-b18d-40cc-b820-7524f0fe9341",
   "metadata": {
    "tags": []
   },
   "outputs": [
    {
     "name": "stdout",
     "output_type": "stream",
     "text": [
      "                roc-auc score\n",
      "Training Set         1.000000\n",
      "Validation Set       0.999966\n"
     ]
    },
    {
     "data": {
      "image/png": "[encoded data removed]",
      "text/plain": [
       "<Figure size 640x480 with 1 Axes>"
      ]
     },
     "metadata": {},
     "output_type": "display_data"
    }
   ],
   "source": [
    "random_forest(rf_reg)"
   ]
  },
  {
   "cell_type": "code",
   "execution_count": 25,
   "id": "bcd54aba-c49e-49d9-a0d7-ea25add5a69f",
   "metadata": {
    "tags": []
   },
   "outputs": [],
   "source": [
    "def submission_file(y_test_prob):\n",
    "    player_id_df = pd.read_csv('../data/processed/player_id.csv')\n",
    "    \n",
    "    submission_df = pd.DataFrame({\n",
    "        'player_id': player_id_df['player_id'],\n",
    "        'drafted': y_test_prob\n",
    "    })\n",
    "    \n",
    "    submission_df['drafted'] = submission_df['drafted'].round(1)\n",
    "    return submission_df"
   ]
  },
  {
   "cell_type": "code",
   "execution_count": 12,
   "id": "d0a675bb-123b-4240-b943-f6ac5edd61b4",
   "metadata": {
    "tags": []
   },
   "outputs": [],
   "source": [
    "y_test_probs = rf_reg.predict_proba(X_test)[:, 1]"
   ]
  },
  {
   "cell_type": "code",
   "execution_count": 13,
   "id": "d37e6485-ef50-4214-9e8d-f11f9d197144",
   "metadata": {
    "tags": []
   },
   "outputs": [],
   "source": [
    "submission_1 = submission_file(y_test_probs)"
   ]
  },
  {
   "cell_type": "code",
   "execution_count": 14,
   "id": "c4ff8874-7a72-4962-aa11-6d25a9c35b37",
   "metadata": {
    "tags": []
   },
   "outputs": [],
   "source": [
    "submission_1.to_csv('../data/submission/submission_rf_1.csv', index=False)"
   ]
  },
  {
   "cell_type": "markdown",
   "id": "232896d9-3af6-4afc-9f08-eb1af37332a1",
   "metadata": {},
   "source": [
    "#### Hyperparameter Tuning with n_estimators"
   ]
  },
  {
   "cell_type": "markdown",
   "id": "6f872657-67d5-4422-a2bf-7cc66a4e28bc",
   "metadata": {},
   "source": [
    "default = 100"
   ]
  },
  {
   "cell_type": "code",
   "execution_count": 19,
   "id": "abb19b28-7831-4c30-b79c-17c14aac238a",
   "metadata": {
    "tags": []
   },
   "outputs": [],
   "source": [
    "n_estimators = [2, 5, 10, 20, 50, 100, 150, 200, 250, 300, 350, 400, 450, 500]"
   ]
  },
  {
   "cell_type": "code",
   "execution_count": 20,
   "id": "bdf8615c-8d46-4360-b6ad-e404c17c79a8",
   "metadata": {
    "tags": []
   },
   "outputs": [
    {
     "name": "stdout",
     "output_type": "stream",
     "text": [
      "     train_score  val_score\n",
      "2       0.999575   0.997724\n",
      "5       0.999976   0.999651\n",
      "10      1.000000   0.999935\n",
      "20      1.000000   0.999960\n",
      "50      1.000000   0.999963\n",
      "100     1.000000   0.999966\n",
      "150     1.000000   0.999965\n",
      "200     1.000000   0.999964\n",
      "250     1.000000   0.999964\n",
      "300     1.000000   0.999965\n",
      "350     1.000000   0.999965\n",
      "400     1.000000   0.999965\n",
      "450     1.000000   0.999966\n",
      "500     1.000000   0.999966\n"
     ]
    }
   ],
   "source": [
    "train_score = []\n",
    "val_score = []\n",
    "    \n",
    "for i in n_estimators:\n",
    "    rf = RandomForestClassifier(random_state=8, n_estimators=i).fit(X_train, y_train)\n",
    "    y_train_probs = rf.predict_proba(X_train)[:, 1]\n",
    "    y_val_probs = rf.predict_proba(X_val)[:, 1]\n",
    "        \n",
    "    train_score.append(roc_auc_score(y_train, y_train_probs))\n",
    "    val_score.append(roc_auc_score(y_val, y_val_probs))       \n",
    "    \n",
    "score = pd.DataFrame({'train_score': train_score,\n",
    "                         'val_score': val_score}, index=n_estimators)\n",
    "print(score)"
   ]
  },
  {
   "cell_type": "markdown",
   "id": "779f4a82-75a3-4e08-88c4-f8461fa10ce0",
   "metadata": {},
   "source": [
    "#### Hyperparameter Tuning with Max Depth"
   ]
  },
  {
   "cell_type": "markdown",
   "id": "4ac73500-1e12-495c-a047-cb3698c0cce4",
   "metadata": {},
   "source": [
    "default = None"
   ]
  },
  {
   "cell_type": "code",
   "execution_count": 23,
   "id": "1a74aa6e-3cda-434a-901a-e60614b7bedf",
   "metadata": {
    "tags": []
   },
   "outputs": [],
   "source": [
    "max_depth = [2, 5, 10, 20, 50, 100, 150, 200, None]"
   ]
  },
  {
   "cell_type": "code",
   "execution_count": 24,
   "id": "2a70c145-3f71-477a-804a-26f2394f5c53",
   "metadata": {
    "tags": []
   },
   "outputs": [
    {
     "name": "stdout",
     "output_type": "stream",
     "text": [
      "       train_score  val_score\n",
      "2.0       0.981876   0.981905\n",
      "5.0       0.992425   0.992735\n",
      "10.0      0.999420   0.999391\n",
      "20.0      0.999960   0.999927\n",
      "50.0      1.000000   0.999961\n",
      "100.0     1.000000   0.999966\n",
      "150.0     1.000000   0.999966\n",
      "200.0     1.000000   0.999966\n",
      "NaN       1.000000   0.999966\n"
     ]
    }
   ],
   "source": [
    "train_score = []\n",
    "val_score = []\n",
    "n_estimators = 100\n",
    "    \n",
    "for i in max_depth:\n",
    "    rf = RandomForestClassifier(random_state=8, n_estimators=n_estimators, max_depth=i).fit(X_train, y_train)\n",
    "    y_train_probs = rf.predict_proba(X_train)[:, 1]\n",
    "    y_val_probs = rf.predict_proba(X_val)[:, 1]\n",
    "        \n",
    "    train_score.append(roc_auc_score(y_train, y_train_probs))\n",
    "    val_score.append(roc_auc_score(y_val, y_val_probs))       \n",
    "    \n",
    "score = pd.DataFrame({'train_score': train_score,\n",
    "                         'val_score': val_score}, index=max_depth)\n",
    "print(score)"
   ]
  },
  {
   "cell_type": "markdown",
   "id": "bede1f7c-723c-461b-8103-90b92ab99bcb",
   "metadata": {},
   "source": [
    "#### Hyperparameter Tuning with Min Sample Split"
   ]
  },
  {
   "cell_type": "markdown",
   "id": "2fe163a1-e990-4cea-bd0b-87b5c29f6bfc",
   "metadata": {},
   "source": [
    "Penalties support by solver were 'l2', and 'none'"
   ]
  },
  {
   "cell_type": "markdown",
   "id": "b9bed035-fb08-4b37-a051-8f4b051b0b61",
   "metadata": {},
   "source": [
    "default = 2"
   ]
  },
  {
   "cell_type": "code",
   "execution_count": 26,
   "id": "cc6e23e8-f9df-4f64-899a-ce7dd91e1a9b",
   "metadata": {
    "tags": []
   },
   "outputs": [],
   "source": [
    "min_samples_split = [2, 5, 10, 15, 20, 50, 100]"
   ]
  },
  {
   "cell_type": "code",
   "execution_count": 27,
   "id": "43cc790c-d3d2-494f-b081-2638655a1465",
   "metadata": {
    "tags": []
   },
   "outputs": [
    {
     "name": "stdout",
     "output_type": "stream",
     "text": [
      "     train_score  val_score\n",
      "2       1.000000   0.999966\n",
      "5       1.000000   0.999957\n",
      "10      1.000000   0.999958\n",
      "15      1.000000   0.999956\n",
      "20      0.999999   0.999943\n",
      "50      0.999988   0.999918\n",
      "100     0.999965   0.999849\n"
     ]
    }
   ],
   "source": [
    "train_score = []\n",
    "val_score = []\n",
    "n_estimators = 100\n",
    "max_depth = None\n",
    "\n",
    "for i in min_samples_split:\n",
    "    rg = RandomForestClassifier(random_state=8, n_estimators=n_estimators, max_depth=max_depth, min_samples_split=i).fit(X_train, y_train)\n",
    "    y_train_probs = rg.predict_proba(X_train)[:, 1]\n",
    "    y_val_probs = rg.predict_proba(X_val)[:, 1]\n",
    "        \n",
    "    train_score.append(roc_auc_score(y_train, y_train_probs))\n",
    "    val_score.append(roc_auc_score(y_val, y_val_probs))       \n",
    "    \n",
    "score = pd.DataFrame({'train_score': train_score,\n",
    "                         'val_score': val_score}, index=min_samples_split)\n",
    "print(score)"
   ]
  },
  {
   "cell_type": "markdown",
   "id": "dea2da9a-f68e-4e37-9f45-db4f4ee0831f",
   "metadata": {},
   "source": [
    "#### Hyperparameter Tuning with Min Samples Leaf"
   ]
  },
  {
   "cell_type": "markdown",
   "id": "df5c6675-d385-4b2c-92c2-9f8f606438ab",
   "metadata": {},
   "source": [
    "default = 1"
   ]
  },
  {
   "cell_type": "code",
   "execution_count": 29,
   "id": "a0275bec-54f8-4861-ab24-fb951d7d134d",
   "metadata": {
    "tags": []
   },
   "outputs": [],
   "source": [
    "min_samples_leaf = [1, 2, 5, 10, 15, 20, 25, 30, 35, 40, 45, 50]"
   ]
  },
  {
   "cell_type": "code",
   "execution_count": 31,
   "id": "cdda1a32-a405-4eba-ad9a-aa3e4a8f3f3f",
   "metadata": {
    "tags": []
   },
   "outputs": [
    {
     "name": "stdout",
     "output_type": "stream",
     "text": [
      "    train_score  val_score\n",
      "1      1.000000   0.999966\n",
      "2      1.000000   0.999963\n",
      "5      0.999995   0.999943\n",
      "10     0.999980   0.999910\n",
      "15     0.999951   0.999834\n",
      "20     0.999902   0.999753\n",
      "25     0.999834   0.999646\n",
      "30     0.999745   0.999539\n",
      "35     0.999608   0.999349\n",
      "40     0.999511   0.999253\n",
      "45     0.999374   0.999127\n",
      "50     0.999182   0.998850\n"
     ]
    }
   ],
   "source": [
    "train_score = []\n",
    "val_score = []\n",
    "n_estimators = 100\n",
    "max_depth = None\n",
    "min_samples_split = 2\n",
    "    \n",
    "for i in min_samples_leaf:\n",
    "    rg = RandomForestClassifier(random_state=8, n_estimators=n_estimators,  max_depth=max_depth, min_samples_split=min_samples_split, min_samples_leaf=i).fit(X_train, y_train)\n",
    "    y_train_probs = rg.predict_proba(X_train)[:, 1]\n",
    "    y_val_probs = rg.predict_proba(X_val)[:, 1]\n",
    "        \n",
    "    train_score.append(roc_auc_score(y_train, y_train_probs))\n",
    "    val_score.append(roc_auc_score(y_val, y_val_probs))       \n",
    "    \n",
    "score = pd.DataFrame({'train_score': train_score,\n",
    "                         'val_score': val_score}, index=min_samples_leaf)\n",
    "print(score)"
   ]
  },
  {
   "cell_type": "markdown",
   "id": "26b20872-9a1e-49da-ae4e-2de21a22f4f2",
   "metadata": {},
   "source": [
    "#### Hyperparameter Tuning with Max Features"
   ]
  },
  {
   "cell_type": "markdown",
   "id": "a9a15e02-7811-4c29-8ac2-2f364344bd0b",
   "metadata": {},
   "source": [
    "default = sqrt"
   ]
  },
  {
   "cell_type": "code",
   "execution_count": 9,
   "id": "3d44f752-99f2-43c7-9835-8a982033edda",
   "metadata": {
    "tags": []
   },
   "outputs": [],
   "source": [
    "max_features = ['sqrt', 'log2', None]"
   ]
  },
  {
   "cell_type": "code",
   "execution_count": 10,
   "id": "2ab75225-5094-4ae4-988c-ad2c35fe5db5",
   "metadata": {
    "tags": []
   },
   "outputs": [
    {
     "name": "stdout",
     "output_type": "stream",
     "text": [
      "      train_score  val_score\n",
      "sqrt          1.0   0.999966\n",
      "log2          1.0   0.999968\n",
      "None          1.0   0.999900\n"
     ]
    }
   ],
   "source": [
    "train_score = []\n",
    "val_score = []\n",
    "n_estimators = 100\n",
    "max_depth = None\n",
    "min_samples_split = 2\n",
    "min_samples_leaf = 1\n",
    "    \n",
    "for i in max_features:\n",
    "    rg = RandomForestClassifier(random_state=8, n_estimators=n_estimators,  max_depth=max_depth, min_samples_split=min_samples_split, min_samples_leaf=1, max_features=i).fit(X_train, y_train)\n",
    "    y_train_probs = rg.predict_proba(X_train)[:, 1]\n",
    "    y_val_probs = rg.predict_proba(X_val)[:, 1]\n",
    "        \n",
    "    train_score.append(roc_auc_score(y_train, y_train_probs))\n",
    "    val_score.append(roc_auc_score(y_val, y_val_probs))       \n",
    "    \n",
    "score = pd.DataFrame({'train_score': train_score,\n",
    "                         'val_score': val_score}, index=max_features)\n",
    "print(score)\n"
   ]
  },
  {
   "cell_type": "markdown",
   "id": "ecd7778d-aed3-4249-a549-6651561f58b5",
   "metadata": {},
   "source": [
    "### Model after hyperparameter tuning"
   ]
  },
  {
   "cell_type": "code",
   "execution_count": 12,
   "id": "c24018fc-5e03-4daa-864d-63d577d0067b",
   "metadata": {
    "tags": []
   },
   "outputs": [
    {
     "data": {
      "text/html": [
       "<style>#sk-container-id-2 {color: black;background-color: white;}#sk-container-id-2 pre{padding: 0;}#sk-container-id-2 div.sk-toggleable {background-color: white;}#sk-container-id-2 label.sk-toggleable__label {cursor: pointer;display: block;width: 100%;margin-bottom: 0;padding: 0.3em;box-sizing: border-box;text-align: center;}#sk-container-id-2 label.sk-toggleable__label-arrow:before {content: \"▸\";float: left;margin-right: 0.25em;color: #696969;}#sk-container-id-2 label.sk-toggleable__label-arrow:hover:before {color: black;}#sk-container-id-2 div.sk-estimator:hover label.sk-toggleable__label-arrow:before {color: black;}#sk-container-id-2 div.sk-toggleable__content {max-height: 0;max-width: 0;overflow: hidden;text-align: left;background-color: #f0f8ff;}#sk-container-id-2 div.sk-toggleable__content pre {margin: 0.2em;color: black;border-radius: 0.25em;background-color: #f0f8ff;}#sk-container-id-2 input.sk-toggleable__control:checked~div.sk-toggleable__content {max-height: 200px;max-width: 100%;overflow: auto;}#sk-container-id-2 input.sk-toggleable__control:checked~label.sk-toggleable__label-arrow:before {content: \"▾\";}#sk-container-id-2 div.sk-estimator input.sk-toggleable__control:checked~label.sk-toggleable__label {background-color: #d4ebff;}#sk-container-id-2 div.sk-label input.sk-toggleable__control:checked~label.sk-toggleable__label {background-color: #d4ebff;}#sk-container-id-2 input.sk-hidden--visually {border: 0;clip: rect(1px 1px 1px 1px);clip: rect(1px, 1px, 1px, 1px);height: 1px;margin: -1px;overflow: hidden;padding: 0;position: absolute;width: 1px;}#sk-container-id-2 div.sk-estimator {font-family: monospace;background-color: #f0f8ff;border: 1px dotted black;border-radius: 0.25em;box-sizing: border-box;margin-bottom: 0.5em;}#sk-container-id-2 div.sk-estimator:hover {background-color: #d4ebff;}#sk-container-id-2 div.sk-parallel-item::after {content: \"\";width: 100%;border-bottom: 1px solid gray;flex-grow: 1;}#sk-container-id-2 div.sk-label:hover label.sk-toggleable__label {background-color: #d4ebff;}#sk-container-id-2 div.sk-serial::before {content: \"\";position: absolute;border-left: 1px solid gray;box-sizing: border-box;top: 0;bottom: 0;left: 50%;z-index: 0;}#sk-container-id-2 div.sk-serial {display: flex;flex-direction: column;align-items: center;background-color: white;padding-right: 0.2em;padding-left: 0.2em;position: relative;}#sk-container-id-2 div.sk-item {position: relative;z-index: 1;}#sk-container-id-2 div.sk-parallel {display: flex;align-items: stretch;justify-content: center;background-color: white;position: relative;}#sk-container-id-2 div.sk-item::before, #sk-container-id-2 div.sk-parallel-item::before {content: \"\";position: absolute;border-left: 1px solid gray;box-sizing: border-box;top: 0;bottom: 0;left: 50%;z-index: -1;}#sk-container-id-2 div.sk-parallel-item {display: flex;flex-direction: column;z-index: 1;position: relative;background-color: white;}#sk-container-id-2 div.sk-parallel-item:first-child::after {align-self: flex-end;width: 50%;}#sk-container-id-2 div.sk-parallel-item:last-child::after {align-self: flex-start;width: 50%;}#sk-container-id-2 div.sk-parallel-item:only-child::after {width: 0;}#sk-container-id-2 div.sk-dashed-wrapped {border: 1px dashed gray;margin: 0 0.4em 0.5em 0.4em;box-sizing: border-box;padding-bottom: 0.4em;background-color: white;}#sk-container-id-2 div.sk-label label {font-family: monospace;font-weight: bold;display: inline-block;line-height: 1.2em;}#sk-container-id-2 div.sk-label-container {text-align: center;}#sk-container-id-2 div.sk-container {/* jupyter's `normalize.less` sets `[hidden] { display: none; }` but bootstrap.min.css set `[hidden] { display: none !important; }` so we also need the `!important` here to be able to override the default hidden behavior on the sphinx rendered scikit-learn.org. See: https://github.com/scikit-learn/scikit-learn/issues/21755 */display: inline-block !important;position: relative;}#sk-container-id-2 div.sk-text-repr-fallback {display: none;}</style><div id=\"sk-container-id-2\" class=\"sk-top-container\"><div class=\"sk-text-repr-fallback\"><pre>RandomForestClassifier(max_features=&#x27;log2&#x27;, random_state=8)</pre><b>In a Jupyter environment, please rerun this cell to show the HTML representation or trust the notebook. <br />On GitHub, the HTML representation is unable to render, please try loading this page with nbviewer.org.</b></div><div class=\"sk-container\" hidden><div class=\"sk-item\"><div class=\"sk-estimator sk-toggleable\"><input class=\"sk-toggleable__control sk-hidden--visually\" id=\"sk-estimator-id-2\" type=\"checkbox\" checked><label for=\"sk-estimator-id-2\" class=\"sk-toggleable__label sk-toggleable__label-arrow\">RandomForestClassifier</label><div class=\"sk-toggleable__content\"><pre>RandomForestClassifier(max_features=&#x27;log2&#x27;, random_state=8)</pre></div></div></div></div></div>"
      ],
      "text/plain": [
       "RandomForestClassifier(max_features='log2', random_state=8)"
      ]
     },
     "execution_count": 12,
     "metadata": {},
     "output_type": "execute_result"
    }
   ],
   "source": [
    "rf_tune = RandomForestClassifier(random_state=8, n_estimators=n_estimators,  max_depth=max_depth, min_samples_split=min_samples_split, min_samples_leaf=1, max_features='log2')\n",
    "rf_tune.fit(X_train, y_train)"
   ]
  },
  {
   "cell_type": "code",
   "execution_count": 13,
   "id": "9b153f1b-210f-449c-ac1c-2ff6dc15495e",
   "metadata": {
    "tags": []
   },
   "outputs": [
    {
     "data": {
      "text/plain": [
       "['../models/rf_tune.joblib']"
      ]
     },
     "execution_count": 13,
     "metadata": {},
     "output_type": "execute_result"
    }
   ],
   "source": [
    "dump(rf_tune, '../models/rf_tune.joblib')"
   ]
  },
  {
   "cell_type": "code",
   "execution_count": 22,
   "id": "0e12de91-807a-497d-a517-59d20af7001e",
   "metadata": {
    "tags": []
   },
   "outputs": [
    {
     "name": "stdout",
     "output_type": "stream",
     "text": [
      "                roc-auc score\n",
      "Training Set         1.000000\n",
      "Validation Set       0.999968\n"
     ]
    },
    {
     "data": {
      "image/png": "[encoded data removed]",
      "text/plain": [
       "<Figure size 640x480 with 1 Axes>"
      ]
     },
     "metadata": {},
     "output_type": "display_data"
    }
   ],
   "source": [
    "random_forest(rf_tune)"
   ]
  },
  {
   "cell_type": "code",
   "execution_count": 23,
   "id": "ee07158b-8d0d-4ada-ae9f-4de4afd5d0b7",
   "metadata": {
    "tags": []
   },
   "outputs": [],
   "source": [
    "y_test_probs_2 = rf_tune.predict_proba(X_test)[:, 1]"
   ]
  },
  {
   "cell_type": "code",
   "execution_count": 26,
   "id": "e85d32c9-b18b-4cb2-a056-7df3b2dd4c7e",
   "metadata": {
    "tags": []
   },
   "outputs": [],
   "source": [
    "submission_2 = submission_file(y_test_probs_2)"
   ]
  },
  {
   "cell_type": "code",
   "execution_count": 27,
   "id": "edfdb1a9-b7a2-47f9-963d-6cd450174c14",
   "metadata": {
    "tags": []
   },
   "outputs": [
    {
     "data": {
      "text/html": [
       "<div>\n",
       "<style scoped>\n",
       "    .dataframe tbody tr th:only-of-type {\n",
       "        vertical-align: middle;\n",
       "    }\n",
       "\n",
       "    .dataframe tbody tr th {\n",
       "        vertical-align: top;\n",
       "    }\n",
       "\n",
       "    .dataframe thead th {\n",
       "        text-align: right;\n",
       "    }\n",
       "</style>\n",
       "<table border=\"1\" class=\"dataframe\">\n",
       "  <thead>\n",
       "    <tr style=\"text-align: right;\">\n",
       "      <th></th>\n",
       "      <th>player_id</th>\n",
       "      <th>drafted</th>\n",
       "    </tr>\n",
       "  </thead>\n",
       "  <tbody>\n",
       "    <tr>\n",
       "      <th>0</th>\n",
       "      <td>cf302b4d-84f7-4124-a25d-a75eed31978b</td>\n",
       "      <td>0.0</td>\n",
       "    </tr>\n",
       "    <tr>\n",
       "      <th>1</th>\n",
       "      <td>f91837cd-4f49-4b70-963d-aeb82c6ce3da</td>\n",
       "      <td>0.0</td>\n",
       "    </tr>\n",
       "    <tr>\n",
       "      <th>2</th>\n",
       "      <td>53ec2a29-1e7d-4c6d-86d7-d60d02af8916</td>\n",
       "      <td>0.0</td>\n",
       "    </tr>\n",
       "    <tr>\n",
       "      <th>3</th>\n",
       "      <td>32402798-471c-4a54-8cb4-29cd95199014</td>\n",
       "      <td>0.0</td>\n",
       "    </tr>\n",
       "    <tr>\n",
       "      <th>4</th>\n",
       "      <td>73b960f9-27b8-4431-9d23-a760e9bbc360</td>\n",
       "      <td>0.0</td>\n",
       "    </tr>\n",
       "    <tr>\n",
       "      <th>...</th>\n",
       "      <td>...</td>\n",
       "      <td>...</td>\n",
       "    </tr>\n",
       "    <tr>\n",
       "      <th>4965</th>\n",
       "      <td>a25ee55f-02a3-4f8e-8194-a5f427e14e7c</td>\n",
       "      <td>0.0</td>\n",
       "    </tr>\n",
       "    <tr>\n",
       "      <th>4966</th>\n",
       "      <td>d0d9f45e-7b01-44b3-8d40-514ec338611d</td>\n",
       "      <td>0.0</td>\n",
       "    </tr>\n",
       "    <tr>\n",
       "      <th>4967</th>\n",
       "      <td>f8df22c4-1602-4fab-896d-8820951aae2f</td>\n",
       "      <td>0.0</td>\n",
       "    </tr>\n",
       "    <tr>\n",
       "      <th>4968</th>\n",
       "      <td>b791c69a-f769-4163-afda-051a6fd20a9d</td>\n",
       "      <td>0.0</td>\n",
       "    </tr>\n",
       "    <tr>\n",
       "      <th>4969</th>\n",
       "      <td>18b51f5d-4746-4121-88fd-c8d0a1399130</td>\n",
       "      <td>0.0</td>\n",
       "    </tr>\n",
       "  </tbody>\n",
       "</table>\n",
       "<p>4970 rows × 2 columns</p>\n",
       "</div>"
      ],
      "text/plain": [
       "                                 player_id  drafted\n",
       "0     cf302b4d-84f7-4124-a25d-a75eed31978b      0.0\n",
       "1     f91837cd-4f49-4b70-963d-aeb82c6ce3da      0.0\n",
       "2     53ec2a29-1e7d-4c6d-86d7-d60d02af8916      0.0\n",
       "3     32402798-471c-4a54-8cb4-29cd95199014      0.0\n",
       "4     73b960f9-27b8-4431-9d23-a760e9bbc360      0.0\n",
       "...                                    ...      ...\n",
       "4965  a25ee55f-02a3-4f8e-8194-a5f427e14e7c      0.0\n",
       "4966  d0d9f45e-7b01-44b3-8d40-514ec338611d      0.0\n",
       "4967  f8df22c4-1602-4fab-896d-8820951aae2f      0.0\n",
       "4968  b791c69a-f769-4163-afda-051a6fd20a9d      0.0\n",
       "4969  18b51f5d-4746-4121-88fd-c8d0a1399130      0.0\n",
       "\n",
       "[4970 rows x 2 columns]"
      ]
     },
     "execution_count": 27,
     "metadata": {},
     "output_type": "execute_result"
    }
   ],
   "source": [
    "submission_2"
   ]
  },
  {
   "cell_type": "code",
   "execution_count": 28,
   "id": "e9803ac4-3708-4d42-a74e-b881622792b0",
   "metadata": {
    "tags": []
   },
   "outputs": [],
   "source": [
    "submission_2.to_csv('../data/submission/submission_rf_tune.csv', index=False)"
   ]
  }
 ],
 "metadata": {
  "kernelspec": {
   "display_name": "Python 3 (ipykernel)",
   "language": "python",
   "name": "python3"
  },
  "language_info": {
   "codemirror_mode": {
    "name": "ipython",
    "version": 3
   },
   "file_extension": ".py",
   "mimetype": "text/x-python",
   "name": "python",
   "nbconvert_exporter": "python",
   "pygments_lexer": "ipython3",
   "version": "3.9.13"
  }
 },
 "nbformat": 4,
 "nbformat_minor": 5
}

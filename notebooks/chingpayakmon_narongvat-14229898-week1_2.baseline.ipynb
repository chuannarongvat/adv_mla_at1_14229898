{
 "cells": [
  {
   "cell_type": "code",
   "execution_count": 1,
   "id": "2361a28c-6093-4ee6-99fc-1320089dc334",
   "metadata": {
    "tags": []
   },
   "outputs": [],
   "source": [
    "%load_ext autoreload\n",
    "%autoreload 2"
   ]
  },
  {
   "cell_type": "markdown",
   "id": "beed4062-e1b5-42fb-bb8c-d34e8bfdb859",
   "metadata": {},
   "source": [
    "## 3. Modeling - Baseline Model"
   ]
  },
  {
   "cell_type": "markdown",
   "id": "518a7f97-beed-46ae-9b5f-e33b4d1273d2",
   "metadata": {},
   "source": [
    "### 3.1 Load and Explore Dataset"
   ]
  },
  {
   "cell_type": "code",
   "execution_count": 10,
   "id": "52f65115-098b-4be5-8357-f7f94c9dd4aa",
   "metadata": {
    "tags": []
   },
   "outputs": [],
   "source": [
    "X_train = pd.read_csv('../data/processed/X_train.csv')\n",
    "y_train = pd.read_csv('../data/processed/y_train.csv')\n",
    "X_test = pd.read_csv('../data/processed/X_test.csv')"
   ]
  },
  {
   "cell_type": "markdown",
   "id": "ccc17472-d946-42be-aeaf-7c2be31ea80e",
   "metadata": {},
   "source": [
    "**[3.1.1]** Import the pandas, numpy, and dump package"
   ]
  },
  {
   "cell_type": "code",
   "execution_count": 2,
   "id": "2049f218-9a13-4039-a233-5e81d362fa89",
   "metadata": {
    "tags": []
   },
   "outputs": [],
   "source": [
    "import pandas as pd\n",
    "import numpy as np\n",
    "from joblib import dump"
   ]
  },
  {
   "cell_type": "code",
   "execution_count": 17,
   "id": "3a68c7e1-a26b-418b-9bc2-031331108b38",
   "metadata": {
    "tags": []
   },
   "outputs": [
    {
     "data": {
      "text/plain": [
       "drafted\n",
       "0.0        44210\n",
       "1.0        44209\n",
       "Name: count, dtype: int64"
      ]
     },
     "execution_count": 17,
     "metadata": {},
     "output_type": "execute_result"
    }
   ],
   "source": [
    "y_train.value_counts()"
   ]
  },
  {
   "cell_type": "markdown",
   "id": "c496abb9-0560-4687-af79-dc957004f39d",
   "metadata": {},
   "source": [
    "### Assess Baseline Model"
   ]
  },
  {
   "cell_type": "code",
   "execution_count": 12,
   "id": "b89135c7-6a67-4f71-b705-d9adfa944ef6",
   "metadata": {
    "tags": []
   },
   "outputs": [
    {
     "data": {
      "text/plain": [
       "0.0"
      ]
     },
     "execution_count": 12,
     "metadata": {},
     "output_type": "execute_result"
    }
   ],
   "source": [
    "y_mode = y_train['drafted'].mode().values[0]\n",
    "y_mode"
   ]
  },
  {
   "cell_type": "code",
   "execution_count": 13,
   "id": "b4e8e4a8-1f31-4bd3-8e9e-244189f4ca9e",
   "metadata": {
    "tags": []
   },
   "outputs": [],
   "source": [
    "y_shape = (len(X_train), 1)\n",
    "y_base = np.full(y_shape, y_mode)"
   ]
  },
  {
   "cell_type": "code",
   "execution_count": 14,
   "id": "52a0361b-8db8-4ce0-a30e-92eb8157bee0",
   "metadata": {
    "tags": []
   },
   "outputs": [],
   "source": [
    "from sklearn.metrics import roc_auc_score"
   ]
  },
  {
   "cell_type": "code",
   "execution_count": 15,
   "id": "28502003-4637-46c1-b24c-1aa8cfb4b6a2",
   "metadata": {
    "tags": []
   },
   "outputs": [],
   "source": [
    "baseline_model = pd.DataFrame({'roc-auc score': roc_auc_score(y_train, y_base)}, index=['Baseline'])"
   ]
  },
  {
   "cell_type": "code",
   "execution_count": 16,
   "id": "e79c7e23-37a0-42a6-ba9e-f57854c939e6",
   "metadata": {
    "tags": []
   },
   "outputs": [
    {
     "data": {
      "text/html": [
       "<div>\n",
       "<style scoped>\n",
       "    .dataframe tbody tr th:only-of-type {\n",
       "        vertical-align: middle;\n",
       "    }\n",
       "\n",
       "    .dataframe tbody tr th {\n",
       "        vertical-align: top;\n",
       "    }\n",
       "\n",
       "    .dataframe thead th {\n",
       "        text-align: right;\n",
       "    }\n",
       "</style>\n",
       "<table border=\"1\" class=\"dataframe\">\n",
       "  <thead>\n",
       "    <tr style=\"text-align: right;\">\n",
       "      <th></th>\n",
       "      <th>roc-auc score</th>\n",
       "    </tr>\n",
       "  </thead>\n",
       "  <tbody>\n",
       "    <tr>\n",
       "      <th>Baseline</th>\n",
       "      <td>0.5</td>\n",
       "    </tr>\n",
       "  </tbody>\n",
       "</table>\n",
       "</div>"
      ],
      "text/plain": [
       "          roc-auc score\n",
       "Baseline            0.5"
      ]
     },
     "execution_count": 16,
     "metadata": {},
     "output_type": "execute_result"
    }
   ],
   "source": [
    "baseline_model"
   ]
  }
 ],
 "metadata": {
  "kernelspec": {
   "display_name": "Python 3 (ipykernel)",
   "language": "python",
   "name": "python3"
  },
  "language_info": {
   "codemirror_mode": {
    "name": "ipython",
    "version": 3
   },
   "file_extension": ".py",
   "mimetype": "text/x-python",
   "name": "python",
   "nbconvert_exporter": "python",
   "pygments_lexer": "ipython3",
   "version": "3.9.13"
  }
 },
 "nbformat": 4,
 "nbformat_minor": 5
}
